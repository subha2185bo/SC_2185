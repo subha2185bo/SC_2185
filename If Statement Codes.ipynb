{
 "cells": [
  {
   "cell_type": "code",
   "execution_count": 2,
   "metadata": {},
   "outputs": [
    {
     "name": "stdout",
     "output_type": "stream",
     "text": [
      "Please buy pen\n",
      "Please buy eraser\n",
      "Please buy lead\n",
      "Please buy scale\n",
      "Please buy copy\n"
     ]
    }
   ],
   "source": [
    "s= ['pen', 'pencil', 'eraser', 'sharpner', 'lead', 'refill', 'scale', 'paper', 'copy', 'stapler']\n",
    "i=1\n",
    "for item in s:\n",
    "    if i%2 is not 0:\n",
    "        print (f'Please buy {item}')\n",
    "    i+= 1"
   ]
  },
  {
   "cell_type": "code",
   "execution_count": 4,
   "metadata": {},
   "outputs": [
    {
     "name": "stdout",
     "output_type": "stream",
     "text": [
      "Please buy pencil\n",
      "Please buy sharpner\n",
      "Please buy refill\n",
      "Please buy paper\n",
      "Please buy stapler\n"
     ]
    }
   ],
   "source": [
    "s= ['pen', 'pencil', 'eraser', 'sharpner', 'lead', 'refill', 'scale', 'paper', 'copy', 'stapler']\n",
    "i=1\n",
    "for item in s:\n",
    "    if i%2 is 0:\n",
    "        print (f'Please buy {item}')\n",
    "    i+= 1"
   ]
  },
  {
   "cell_type": "code",
   "execution_count": 6,
   "metadata": {},
   "outputs": [
    {
     "name": "stdout",
     "output_type": "stream",
     "text": [
      "Please buy pencil\n",
      "Please buy sharpner\n",
      "Please buy refill\n",
      "Please buy paper\n",
      "Please buy stapler\n"
     ]
    }
   ],
   "source": [
    "s= ['pen', 'pencil', 'eraser', 'sharpner', 'lead', 'refill', 'scale', 'paper', 'copy', 'stapler']\n",
    "i=0\n",
    "for item in s:\n",
    "    if i%2 is not 0:\n",
    "        print (f'Please buy {item}')\n",
    "    i+= 1"
   ]
  },
  {
   "cell_type": "code",
   "execution_count": 8,
   "metadata": {},
   "outputs": [
    {
     "name": "stdout",
     "output_type": "stream",
     "text": [
      "Please buy pen\n",
      "Please buy pencil\n",
      "Please buy eraser\n",
      "Please buy sharpner\n",
      "Please buy lead\n",
      "Please buy refill\n",
      "Please buy scale\n",
      "Please buy paper\n",
      "Please buy copy\n",
      "Please buy stapler\n"
     ]
    }
   ],
   "source": [
    "s= ['pen', 'pencil', 'eraser', 'sharpner', 'lead', 'refill', 'scale', 'paper', 'copy', 'stapler']\n",
    "i=1\n",
    "for item in s:\n",
    "    if i%2 is not 0:\n",
    "        print (f'Please buy {item}')\n",
    "    i+= 2"
   ]
  },
  {
   "cell_type": "code",
   "execution_count": 11,
   "metadata": {},
   "outputs": [],
   "source": [
    "s= ['pen', 'pencil', 'eraser', 'sharpner', 'lead', 'refill', 'scale', 'paper', 'copy', 'stapler']\n",
    "i=1\n",
    "for item in s:\n",
    "    if i%2 is 0:\n",
    "        print (f'Please buy {item}')\n",
    "    i+= 2\n",
    "#nothing is coming"
   ]
  },
  {
   "cell_type": "code",
   "execution_count": 14,
   "metadata": {},
   "outputs": [],
   "source": [
    "s= ['pen', 'pencil', 'eraser', 'sharpner', 'lead', 'refill', 'scale', 'paper', 'copy', 'stapler']\n",
    "i=1\n",
    "for item in s:\n",
    "    if i%1 is not 0:\n",
    "        print (f'Please buy {item}')\n",
    "    i+= 2\n",
    "#nothing is coming"
   ]
  },
  {
   "cell_type": "code",
   "execution_count": 1,
   "metadata": {},
   "outputs": [
    {
     "name": "stdout",
     "output_type": "stream",
     "text": [
      "Please buy pen\n",
      "Please buy pencil\n",
      "Please buy eraser\n",
      "Please buy sharpner\n",
      "Please buy lead\n",
      "Please buy refill\n",
      "Please buy scale\n",
      "Please buy paper\n",
      "Please buy copy\n",
      "Please buy stapler\n"
     ]
    }
   ],
   "source": [
    "s= ['pen', 'pencil', 'eraser', 'sharpner', 'lead', 'refill', 'scale', 'paper', 'copy', 'stapler']\n",
    "i=1\n",
    "for item in s:\n",
    "    if i%1 is 0:\n",
    "        print (f'Please buy {item}')\n",
    "    i+= 1"
   ]
  },
  {
   "cell_type": "code",
   "execution_count": 7,
   "metadata": {},
   "outputs": [
    {
     "name": "stdout",
     "output_type": "stream",
     "text": [
      "Please buy pencil\n",
      "Please buy sharpner\n",
      "Please buy refill\n",
      "Please buy paper\n",
      "Please buy stapler\n"
     ]
    }
   ],
   "source": [
    "s= ['pen', 'pencil', 'eraser', 'sharpner', 'lead', 'refill', 'scale', 'paper', 'copy', 'stapler']\n",
    "i=0\n",
    "for item in s:\n",
    "    if i%2!= 0:\n",
    "        print (f'Please buy {item}')\n",
    "    i+=1"
   ]
  }
 ],
 "metadata": {
  "kernelspec": {
   "display_name": "Python 3",
   "language": "python",
   "name": "python3"
  },
  "language_info": {
   "codemirror_mode": {
    "name": "ipython",
    "version": 3
   },
   "file_extension": ".py",
   "mimetype": "text/x-python",
   "name": "python",
   "nbconvert_exporter": "python",
   "pygments_lexer": "ipython3",
   "version": "3.7.6"
  }
 },
 "nbformat": 4,
 "nbformat_minor": 4
}
