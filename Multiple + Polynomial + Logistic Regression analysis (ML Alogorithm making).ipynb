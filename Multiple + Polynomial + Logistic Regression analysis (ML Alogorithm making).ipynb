{
 "cells": [
  {
   "cell_type": "code",
   "execution_count": 2,
   "metadata": {},
   "outputs": [],
   "source": [
    "import numpy as np\n",
    "import pandas as pd\n",
    "import seaborn as sns\n",
    "sns.set()\n",
    "import matplotlib.pyplot as plt\n",
    "%matplotlib inline"
   ]
  },
  {
   "cell_type": "code",
   "execution_count": null,
   "metadata": {},
   "outputs": [],
   "source": [
    "# Multiple Linear Regression"
   ]
  },
  {
   "cell_type": "code",
   "execution_count": 3,
   "metadata": {},
   "outputs": [
    {
     "data": {
      "text/html": [
       "<div>\n",
       "<style scoped>\n",
       "    .dataframe tbody tr th:only-of-type {\n",
       "        vertical-align: middle;\n",
       "    }\n",
       "\n",
       "    .dataframe tbody tr th {\n",
       "        vertical-align: top;\n",
       "    }\n",
       "\n",
       "    .dataframe thead th {\n",
       "        text-align: right;\n",
       "    }\n",
       "</style>\n",
       "<table border=\"1\" class=\"dataframe\">\n",
       "  <thead>\n",
       "    <tr style=\"text-align: right;\">\n",
       "      <th></th>\n",
       "      <th>Sqft</th>\n",
       "      <th>Floor</th>\n",
       "      <th>TotalFloor</th>\n",
       "      <th>Bedroom</th>\n",
       "      <th>Living.Room</th>\n",
       "      <th>Bathroom</th>\n",
       "      <th>Price</th>\n",
       "    </tr>\n",
       "  </thead>\n",
       "  <tbody>\n",
       "    <tr>\n",
       "      <th>0</th>\n",
       "      <td>1177.698</td>\n",
       "      <td>2</td>\n",
       "      <td>7</td>\n",
       "      <td>2</td>\n",
       "      <td>2</td>\n",
       "      <td>2</td>\n",
       "      <td>62000</td>\n",
       "    </tr>\n",
       "    <tr>\n",
       "      <th>1</th>\n",
       "      <td>2134.800</td>\n",
       "      <td>5</td>\n",
       "      <td>7</td>\n",
       "      <td>4</td>\n",
       "      <td>2</td>\n",
       "      <td>2</td>\n",
       "      <td>78000</td>\n",
       "    </tr>\n",
       "    <tr>\n",
       "      <th>2</th>\n",
       "      <td>1138.560</td>\n",
       "      <td>5</td>\n",
       "      <td>7</td>\n",
       "      <td>2</td>\n",
       "      <td>2</td>\n",
       "      <td>1</td>\n",
       "      <td>58000</td>\n",
       "    </tr>\n",
       "  </tbody>\n",
       "</table>\n",
       "</div>"
      ],
      "text/plain": [
       "       Sqft  Floor  TotalFloor  Bedroom  Living.Room  Bathroom  Price\n",
       "0  1177.698      2           7        2            2         2  62000\n",
       "1  2134.800      5           7        4            2         2  78000\n",
       "2  1138.560      5           7        2            2         1  58000"
      ]
     },
     "execution_count": 3,
     "metadata": {},
     "output_type": "execute_result"
    }
   ],
   "source": [
    "house1 = pd.read_csv('Desktop/house_rental_dataUC.csv')\n",
    "house1 = house1.drop(['Unnamed: 0'], axis=1)\n",
    "house1.head(3)"
   ]
  },
  {
   "cell_type": "code",
   "execution_count": 4,
   "metadata": {},
   "outputs": [
    {
     "data": {
      "text/html": [
       "<div>\n",
       "<style scoped>\n",
       "    .dataframe tbody tr th:only-of-type {\n",
       "        vertical-align: middle;\n",
       "    }\n",
       "\n",
       "    .dataframe tbody tr th {\n",
       "        vertical-align: top;\n",
       "    }\n",
       "\n",
       "    .dataframe thead th {\n",
       "        text-align: right;\n",
       "    }\n",
       "</style>\n",
       "<table border=\"1\" class=\"dataframe\">\n",
       "  <thead>\n",
       "    <tr style=\"text-align: right;\">\n",
       "      <th></th>\n",
       "      <th>Sqft</th>\n",
       "      <th>Floor</th>\n",
       "      <th>Living.Room</th>\n",
       "    </tr>\n",
       "  </thead>\n",
       "  <tbody>\n",
       "    <tr>\n",
       "      <th>0</th>\n",
       "      <td>1177.698</td>\n",
       "      <td>2</td>\n",
       "      <td>2</td>\n",
       "    </tr>\n",
       "    <tr>\n",
       "      <th>1</th>\n",
       "      <td>2134.800</td>\n",
       "      <td>5</td>\n",
       "      <td>2</td>\n",
       "    </tr>\n",
       "    <tr>\n",
       "      <th>2</th>\n",
       "      <td>1138.560</td>\n",
       "      <td>5</td>\n",
       "      <td>2</td>\n",
       "    </tr>\n",
       "  </tbody>\n",
       "</table>\n",
       "</div>"
      ],
      "text/plain": [
       "       Sqft  Floor  Living.Room\n",
       "0  1177.698      2            2\n",
       "1  2134.800      5            2\n",
       "2  1138.560      5            2"
      ]
     },
     "execution_count": 4,
     "metadata": {},
     "output_type": "execute_result"
    }
   ],
   "source": [
    "X_1 = house1.drop(['TotalFloor', 'Bedroom', 'Bathroom', 'Price'], axis=1)\n",
    "y = house1['Price'].values.reshape(-1,1)\n",
    "X_1.head(3)"
   ]
  },
  {
   "cell_type": "code",
   "execution_count": 5,
   "metadata": {},
   "outputs": [
    {
     "name": "stdout",
     "output_type": "stream",
     "text": [
      "(483, 3) (162, 3)\n"
     ]
    }
   ],
   "source": [
    "from sklearn.model_selection import train_test_split\n",
    "X_train, X_test, y_train, y_test = train_test_split(X_1, y, test_size = 0.25)\n",
    "print (X_train.shape, X_test.shape)"
   ]
  },
  {
   "cell_type": "code",
   "execution_count": 6,
   "metadata": {},
   "outputs": [
    {
     "data": {
      "text/plain": [
       "LinearRegression(copy_X=True, fit_intercept=True, n_jobs=None, normalize=False)"
      ]
     },
     "execution_count": 6,
     "metadata": {},
     "output_type": "execute_result"
    }
   ],
   "source": [
    "from sklearn.linear_model import LinearRegression\n",
    "reg = LinearRegression()\n",
    "reg.fit(X_train, y_train)"
   ]
  },
  {
   "cell_type": "code",
   "execution_count": 7,
   "metadata": {},
   "outputs": [
    {
     "name": "stdout",
     "output_type": "stream",
     "text": [
      "[   39.64764903  1224.5892695  -3671.40692803]\n",
      "[1471.46660339]\n"
     ]
    }
   ],
   "source": [
    "print (reg.coef_[0])\n",
    "print (reg.intercept_)"
   ]
  },
  {
   "cell_type": "code",
   "execution_count": 8,
   "metadata": {},
   "outputs": [
    {
     "data": {
      "text/html": [
       "<div>\n",
       "<style scoped>\n",
       "    .dataframe tbody tr th:only-of-type {\n",
       "        vertical-align: middle;\n",
       "    }\n",
       "\n",
       "    .dataframe tbody tr th {\n",
       "        vertical-align: top;\n",
       "    }\n",
       "\n",
       "    .dataframe thead th {\n",
       "        text-align: right;\n",
       "    }\n",
       "</style>\n",
       "<table border=\"1\" class=\"dataframe\">\n",
       "  <thead>\n",
       "    <tr style=\"text-align: right;\">\n",
       "      <th></th>\n",
       "      <th>Coefficient</th>\n",
       "    </tr>\n",
       "  </thead>\n",
       "  <tbody>\n",
       "    <tr>\n",
       "      <th>Sqft</th>\n",
       "      <td>39.647649</td>\n",
       "    </tr>\n",
       "    <tr>\n",
       "      <th>Floor</th>\n",
       "      <td>1224.589270</td>\n",
       "    </tr>\n",
       "    <tr>\n",
       "      <th>Living.Room</th>\n",
       "      <td>-3671.406928</td>\n",
       "    </tr>\n",
       "  </tbody>\n",
       "</table>\n",
       "</div>"
      ],
      "text/plain": [
       "             Coefficient\n",
       "Sqft           39.647649\n",
       "Floor        1224.589270\n",
       "Living.Room -3671.406928"
      ]
     },
     "execution_count": 8,
     "metadata": {},
     "output_type": "execute_result"
    }
   ],
   "source": [
    "coef1 = pd.DataFrame (reg.coef_[0], X_1.columns, columns = ['Coefficient'])\n",
    "coef1"
   ]
  },
  {
   "cell_type": "code",
   "execution_count": 9,
   "metadata": {},
   "outputs": [
    {
     "name": "stdout",
     "output_type": "stream",
     "text": [
      "the linear model is: Price = 1471.5 + 39.648*Sqft + 1224.6*Floor + -3671.4*Living.Room\n"
     ]
    }
   ],
   "source": [
    "print (\"the linear model is: Price = {:.5} + {:.5}*Sqft + {:.5}*Floor + {:.5}*Living.Room\". format(reg.intercept_[0], reg.coef_[0][0], reg.coef_[0][1], reg.coef_[0][2]))"
   ]
  },
  {
   "cell_type": "code",
   "execution_count": 10,
   "metadata": {},
   "outputs": [
    {
     "data": {
      "text/plain": [
       "-935.6520000000005"
      ]
     },
     "execution_count": 10,
     "metadata": {},
     "output_type": "execute_result"
    }
   ],
   "source": [
    "Price = 1471.5 + 39.648*1 + 1224.6*1 + -3671.4*1\n",
    "Price"
   ]
  },
  {
   "cell_type": "code",
   "execution_count": 11,
   "metadata": {},
   "outputs": [
    {
     "data": {
      "text/plain": [
       "0.6983350160088508"
      ]
     },
     "execution_count": 11,
     "metadata": {},
     "output_type": "execute_result"
    }
   ],
   "source": [
    "reg.score(X_1,y)"
   ]
  },
  {
   "cell_type": "code",
   "execution_count": 12,
   "metadata": {},
   "outputs": [],
   "source": [
    "from sklearn import metrics"
   ]
  },
  {
   "cell_type": "code",
   "execution_count": 13,
   "metadata": {},
   "outputs": [],
   "source": [
    "y_pred = reg.predict(X_test)"
   ]
  },
  {
   "cell_type": "code",
   "execution_count": 14,
   "metadata": {},
   "outputs": [
    {
     "name": "stdout",
     "output_type": "stream",
     "text": [
      "Mean Absolute Error 15115.790213781944\n"
     ]
    }
   ],
   "source": [
    "print (\"Mean Absolute Error\", metrics.mean_absolute_error(y_test, y_pred))"
   ]
  },
  {
   "cell_type": "code",
   "execution_count": 15,
   "metadata": {},
   "outputs": [
    {
     "name": "stdout",
     "output_type": "stream",
     "text": [
      "Root Mean Squared Error 20263.372428074646\n"
     ]
    }
   ],
   "source": [
    "print (\"Root Mean Squared Error\", np.sqrt(metrics.mean_squared_error(y_test, y_pred)))"
   ]
  },
  {
   "cell_type": "code",
   "execution_count": 16,
   "metadata": {},
   "outputs": [],
   "source": [
    "X = np.column_stack((house1['Sqft'], house1['Floor'], house1['Living.Room']))\n",
    "y= house1['Price']"
   ]
  },
  {
   "cell_type": "code",
   "execution_count": 17,
   "metadata": {},
   "outputs": [],
   "source": [
    "import statsmodels.api as sm"
   ]
  },
  {
   "cell_type": "code",
   "execution_count": 18,
   "metadata": {},
   "outputs": [
    {
     "data": {
      "text/plain": [
       "array([[1.000000e+00, 1.177698e+03, 2.000000e+00, 2.000000e+00],\n",
       "       [1.000000e+00, 2.134800e+03, 5.000000e+00, 2.000000e+00],\n",
       "       [1.000000e+00, 1.138560e+03, 5.000000e+00, 2.000000e+00],\n",
       "       ...,\n",
       "       [1.000000e+00, 7.400640e+02, 1.300000e+01, 1.000000e+00],\n",
       "       [1.000000e+00, 1.707840e+03, 3.000000e+00, 2.000000e+00],\n",
       "       [1.000000e+00, 1.376946e+03, 6.000000e+00, 2.000000e+00]])"
      ]
     },
     "execution_count": 18,
     "metadata": {},
     "output_type": "execute_result"
    }
   ],
   "source": [
    "X_2 = sm.add_constant(X)\n",
    "X_2"
   ]
  },
  {
   "cell_type": "code",
   "execution_count": 19,
   "metadata": {},
   "outputs": [],
   "source": [
    "reg_sm =sm.OLS(y,X_2)\n",
    "reg_fit = reg_sm.fit()"
   ]
  },
  {
   "cell_type": "code",
   "execution_count": 20,
   "metadata": {},
   "outputs": [
    {
     "name": "stdout",
     "output_type": "stream",
     "text": [
      "                            OLS Regression Results                            \n",
      "==============================================================================\n",
      "Dep. Variable:                  Price   R-squared:                       0.699\n",
      "Model:                            OLS   Adj. R-squared:                  0.698\n",
      "Method:                 Least Squares   F-statistic:                     497.2\n",
      "Date:                Fri, 11 Sep 2020   Prob (F-statistic):          8.18e-167\n",
      "Time:                        06:12:02   Log-Likelihood:                -7287.4\n",
      "No. Observations:                 645   AIC:                         1.458e+04\n",
      "Df Residuals:                     641   BIC:                         1.460e+04\n",
      "Df Model:                           3                                         \n",
      "Covariance Type:            nonrobust                                         \n",
      "==============================================================================\n",
      "                 coef    std err          t      P>|t|      [0.025      0.975]\n",
      "------------------------------------------------------------------------------\n",
      "const       2848.1530   3365.662      0.846      0.398   -3760.902    9457.208\n",
      "x1            38.4802      1.147     33.544      0.000      36.228      40.733\n",
      "x2          1144.4697    201.739      5.673      0.000     748.320    1540.619\n",
      "x3         -3552.1989   1884.817     -1.885      0.060   -7253.362     148.964\n",
      "==============================================================================\n",
      "Omnibus:                      152.307   Durbin-Watson:                   1.980\n",
      "Prob(Omnibus):                  0.000   Jarque-Bera (JB):              553.936\n",
      "Skew:                           1.066   Prob(JB):                    5.18e-121\n",
      "Kurtosis:                       7.008   Cond. No.                     8.26e+03\n",
      "==============================================================================\n",
      "\n",
      "Warnings:\n",
      "[1] Standard Errors assume that the covariance matrix of the errors is correctly specified.\n",
      "[2] The condition number is large, 8.26e+03. This might indicate that there are\n",
      "strong multicollinearity or other numerical problems.\n"
     ]
    }
   ],
   "source": [
    "print (reg_fit.summary())"
   ]
  },
  {
   "cell_type": "code",
   "execution_count": 21,
   "metadata": {},
   "outputs": [
    {
     "data": {
      "text/html": [
       "<div>\n",
       "<style scoped>\n",
       "    .dataframe tbody tr th:only-of-type {\n",
       "        vertical-align: middle;\n",
       "    }\n",
       "\n",
       "    .dataframe tbody tr th {\n",
       "        vertical-align: top;\n",
       "    }\n",
       "\n",
       "    .dataframe thead th {\n",
       "        text-align: right;\n",
       "    }\n",
       "</style>\n",
       "<table border=\"1\" class=\"dataframe\">\n",
       "  <thead>\n",
       "    <tr style=\"text-align: right;\">\n",
       "      <th></th>\n",
       "      <th>Sqft</th>\n",
       "      <th>Floor</th>\n",
       "    </tr>\n",
       "  </thead>\n",
       "  <tbody>\n",
       "    <tr>\n",
       "      <th>0</th>\n",
       "      <td>1177.698</td>\n",
       "      <td>2</td>\n",
       "    </tr>\n",
       "    <tr>\n",
       "      <th>1</th>\n",
       "      <td>2134.800</td>\n",
       "      <td>5</td>\n",
       "    </tr>\n",
       "    <tr>\n",
       "      <th>2</th>\n",
       "      <td>1138.560</td>\n",
       "      <td>5</td>\n",
       "    </tr>\n",
       "  </tbody>\n",
       "</table>\n",
       "</div>"
      ],
      "text/plain": [
       "       Sqft  Floor\n",
       "0  1177.698      2\n",
       "1  2134.800      5\n",
       "2  1138.560      5"
      ]
     },
     "execution_count": 21,
     "metadata": {},
     "output_type": "execute_result"
    }
   ],
   "source": [
    "X_1 = house1.drop(['TotalFloor','Living.Room', 'Bedroom', 'Bathroom', 'Price'], axis=1)\n",
    "y = house1['Price'].values.reshape(-1,1)\n",
    "X_1.head(3)"
   ]
  },
  {
   "cell_type": "code",
   "execution_count": 23,
   "metadata": {},
   "outputs": [
    {
     "name": "stdout",
     "output_type": "stream",
     "text": [
      "(483, 2) (162, 2)\n"
     ]
    }
   ],
   "source": [
    "X_train, X_test, y_train, y_test = train_test_split(X_1, y, test_size = 0.25)\n",
    "print (X_train.shape, X_test.shape)"
   ]
  },
  {
   "cell_type": "code",
   "execution_count": 24,
   "metadata": {},
   "outputs": [
    {
     "data": {
      "text/plain": [
       "LinearRegression(copy_X=True, fit_intercept=True, n_jobs=None, normalize=False)"
      ]
     },
     "execution_count": 24,
     "metadata": {},
     "output_type": "execute_result"
    }
   ],
   "source": [
    "reg = LinearRegression()\n",
    "reg.fit(X_train, y_train)"
   ]
  },
  {
   "cell_type": "code",
   "execution_count": 25,
   "metadata": {},
   "outputs": [
    {
     "name": "stdout",
     "output_type": "stream",
     "text": [
      "[  37.33204347 1238.32006158]\n",
      "[-1940.18415608]\n"
     ]
    }
   ],
   "source": [
    "print (reg.coef_[0])\n",
    "print (reg.intercept_)"
   ]
  },
  {
   "cell_type": "code",
   "execution_count": 26,
   "metadata": {},
   "outputs": [
    {
     "data": {
      "text/html": [
       "<div>\n",
       "<style scoped>\n",
       "    .dataframe tbody tr th:only-of-type {\n",
       "        vertical-align: middle;\n",
       "    }\n",
       "\n",
       "    .dataframe tbody tr th {\n",
       "        vertical-align: top;\n",
       "    }\n",
       "\n",
       "    .dataframe thead th {\n",
       "        text-align: right;\n",
       "    }\n",
       "</style>\n",
       "<table border=\"1\" class=\"dataframe\">\n",
       "  <thead>\n",
       "    <tr style=\"text-align: right;\">\n",
       "      <th></th>\n",
       "      <th>Coefficient</th>\n",
       "    </tr>\n",
       "  </thead>\n",
       "  <tbody>\n",
       "    <tr>\n",
       "      <th>Sqft</th>\n",
       "      <td>37.332043</td>\n",
       "    </tr>\n",
       "    <tr>\n",
       "      <th>Floor</th>\n",
       "      <td>1238.320062</td>\n",
       "    </tr>\n",
       "  </tbody>\n",
       "</table>\n",
       "</div>"
      ],
      "text/plain": [
       "       Coefficient\n",
       "Sqft     37.332043\n",
       "Floor  1238.320062"
      ]
     },
     "execution_count": 26,
     "metadata": {},
     "output_type": "execute_result"
    }
   ],
   "source": [
    "coef_1 = pd.DataFrame (reg.coef_[0], X_1.columns, columns = ['Coefficient'])\n",
    "coef_1"
   ]
  },
  {
   "cell_type": "code",
   "execution_count": 27,
   "metadata": {},
   "outputs": [
    {
     "name": "stdout",
     "output_type": "stream",
     "text": [
      "the linear model is: Price = -1940.2 + 37.332*Sqft + 1238.3*Floor\n"
     ]
    }
   ],
   "source": [
    "print (\"the linear model is: Price = {:.5} + {:.5}*Sqft + {:.5}*Floor\". format(reg.intercept_[0], reg.coef_[0][0], reg.coef_[0][1]))"
   ]
  },
  {
   "cell_type": "code",
   "execution_count": 28,
   "metadata": {},
   "outputs": [
    {
     "data": {
      "text/plain": [
       "-664.568"
      ]
     },
     "execution_count": 28,
     "metadata": {},
     "output_type": "execute_result"
    }
   ],
   "source": [
    "Price = -1940.2 + 37.332*1 + 1238.3*1\n",
    "Price"
   ]
  },
  {
   "cell_type": "code",
   "execution_count": 29,
   "metadata": {},
   "outputs": [
    {
     "data": {
      "text/plain": [
       "0.6975517254814843"
      ]
     },
     "execution_count": 29,
     "metadata": {},
     "output_type": "execute_result"
    }
   ],
   "source": [
    "reg.score(X_1,y)"
   ]
  },
  {
   "cell_type": "code",
   "execution_count": 30,
   "metadata": {},
   "outputs": [],
   "source": [
    "from sklearn import metrics\n",
    "y_pred = reg.predict(X_test)"
   ]
  },
  {
   "cell_type": "code",
   "execution_count": 31,
   "metadata": {},
   "outputs": [
    {
     "name": "stdout",
     "output_type": "stream",
     "text": [
      "Mean Absolute Error 13959.974583432739\n"
     ]
    }
   ],
   "source": [
    "print (\"Mean Absolute Error\", metrics.mean_absolute_error(y_test, y_pred))"
   ]
  },
  {
   "cell_type": "code",
   "execution_count": 32,
   "metadata": {},
   "outputs": [
    {
     "name": "stdout",
     "output_type": "stream",
     "text": [
      "Root Mean Squared Error 17599.48939466903\n"
     ]
    }
   ],
   "source": [
    "print (\"Root Mean Squared Error\", np.sqrt(metrics.mean_squared_error(y_test, y_pred)))"
   ]
  },
  {
   "cell_type": "code",
   "execution_count": 33,
   "metadata": {},
   "outputs": [],
   "source": [
    "X = np.column_stack((house1['Sqft'], house1['Floor']))\n",
    "y= house1['Price']"
   ]
  },
  {
   "cell_type": "code",
   "execution_count": 34,
   "metadata": {},
   "outputs": [
    {
     "data": {
      "text/plain": [
       "array([[1.000000e+00, 1.177698e+03, 2.000000e+00],\n",
       "       [1.000000e+00, 2.134800e+03, 5.000000e+00],\n",
       "       [1.000000e+00, 1.138560e+03, 5.000000e+00],\n",
       "       ...,\n",
       "       [1.000000e+00, 7.400640e+02, 1.300000e+01],\n",
       "       [1.000000e+00, 1.707840e+03, 3.000000e+00],\n",
       "       [1.000000e+00, 1.376946e+03, 6.000000e+00]])"
      ]
     },
     "execution_count": 34,
     "metadata": {},
     "output_type": "execute_result"
    }
   ],
   "source": [
    "import statsmodels.api as sm\n",
    "X2 = sm.add_constant(X)\n",
    "X2"
   ]
  },
  {
   "cell_type": "code",
   "execution_count": 35,
   "metadata": {},
   "outputs": [
    {
     "name": "stdout",
     "output_type": "stream",
     "text": [
      "                            OLS Regression Results                            \n",
      "==============================================================================\n",
      "Dep. Variable:                  Price   R-squared:                       0.699\n",
      "Model:                            OLS   Adj. R-squared:                  0.698\n",
      "Method:                 Least Squares   F-statistic:                     497.2\n",
      "Date:                Fri, 11 Sep 2020   Prob (F-statistic):          8.18e-167\n",
      "Time:                        06:21:05   Log-Likelihood:                -7287.4\n",
      "No. Observations:                 645   AIC:                         1.458e+04\n",
      "Df Residuals:                     641   BIC:                         1.460e+04\n",
      "Df Model:                           3                                         \n",
      "Covariance Type:            nonrobust                                         \n",
      "==============================================================================\n",
      "                 coef    std err          t      P>|t|      [0.025      0.975]\n",
      "------------------------------------------------------------------------------\n",
      "const       2848.1530   3365.662      0.846      0.398   -3760.902    9457.208\n",
      "x1            38.4802      1.147     33.544      0.000      36.228      40.733\n",
      "x2          1144.4697    201.739      5.673      0.000     748.320    1540.619\n",
      "x3         -3552.1989   1884.817     -1.885      0.060   -7253.362     148.964\n",
      "==============================================================================\n",
      "Omnibus:                      152.307   Durbin-Watson:                   1.980\n",
      "Prob(Omnibus):                  0.000   Jarque-Bera (JB):              553.936\n",
      "Skew:                           1.066   Prob(JB):                    5.18e-121\n",
      "Kurtosis:                       7.008   Cond. No.                     8.26e+03\n",
      "==============================================================================\n",
      "\n",
      "Warnings:\n",
      "[1] Standard Errors assume that the covariance matrix of the errors is correctly specified.\n",
      "[2] The condition number is large, 8.26e+03. This might indicate that there are\n",
      "strong multicollinearity or other numerical problems.\n"
     ]
    }
   ],
   "source": [
    "reg_sm =sm.OLS(y,X_2)\n",
    "reg_fit = reg_sm.fit()\n",
    "print (reg_fit.summary())"
   ]
  },
  {
   "cell_type": "code",
   "execution_count": 36,
   "metadata": {},
   "outputs": [
    {
     "data": {
      "text/html": [
       "<div>\n",
       "<style scoped>\n",
       "    .dataframe tbody tr th:only-of-type {\n",
       "        vertical-align: middle;\n",
       "    }\n",
       "\n",
       "    .dataframe tbody tr th {\n",
       "        vertical-align: top;\n",
       "    }\n",
       "\n",
       "    .dataframe thead th {\n",
       "        text-align: right;\n",
       "    }\n",
       "</style>\n",
       "<table border=\"1\" class=\"dataframe\">\n",
       "  <thead>\n",
       "    <tr style=\"text-align: right;\">\n",
       "      <th></th>\n",
       "      <th>Sqft</th>\n",
       "      <th>Floor</th>\n",
       "      <th>TotalFloor</th>\n",
       "      <th>Bedroom</th>\n",
       "      <th>Living.Room</th>\n",
       "      <th>Bathroom</th>\n",
       "      <th>Price</th>\n",
       "    </tr>\n",
       "  </thead>\n",
       "  <tbody>\n",
       "    <tr>\n",
       "      <th>0</th>\n",
       "      <td>1177.698</td>\n",
       "      <td>2</td>\n",
       "      <td>7</td>\n",
       "      <td>2</td>\n",
       "      <td>2</td>\n",
       "      <td>2</td>\n",
       "      <td>62000</td>\n",
       "    </tr>\n",
       "    <tr>\n",
       "      <th>1</th>\n",
       "      <td>2134.800</td>\n",
       "      <td>5</td>\n",
       "      <td>7</td>\n",
       "      <td>4</td>\n",
       "      <td>2</td>\n",
       "      <td>2</td>\n",
       "      <td>78000</td>\n",
       "    </tr>\n",
       "    <tr>\n",
       "      <th>2</th>\n",
       "      <td>1138.560</td>\n",
       "      <td>5</td>\n",
       "      <td>7</td>\n",
       "      <td>2</td>\n",
       "      <td>2</td>\n",
       "      <td>1</td>\n",
       "      <td>58000</td>\n",
       "    </tr>\n",
       "  </tbody>\n",
       "</table>\n",
       "</div>"
      ],
      "text/plain": [
       "       Sqft  Floor  TotalFloor  Bedroom  Living.Room  Bathroom  Price\n",
       "0  1177.698      2           7        2            2         2  62000\n",
       "1  2134.800      5           7        4            2         2  78000\n",
       "2  1138.560      5           7        2            2         1  58000"
      ]
     },
     "execution_count": 36,
     "metadata": {},
     "output_type": "execute_result"
    }
   ],
   "source": [
    "house1.head(3)"
   ]
  },
  {
   "cell_type": "code",
   "execution_count": 37,
   "metadata": {},
   "outputs": [
    {
     "data": {
      "text/html": [
       "<div>\n",
       "<style scoped>\n",
       "    .dataframe tbody tr th:only-of-type {\n",
       "        vertical-align: middle;\n",
       "    }\n",
       "\n",
       "    .dataframe tbody tr th {\n",
       "        vertical-align: top;\n",
       "    }\n",
       "\n",
       "    .dataframe thead th {\n",
       "        text-align: right;\n",
       "    }\n",
       "</style>\n",
       "<table border=\"1\" class=\"dataframe\">\n",
       "  <thead>\n",
       "    <tr style=\"text-align: right;\">\n",
       "      <th></th>\n",
       "      <th>Sqft</th>\n",
       "      <th>Bedroom</th>\n",
       "      <th>Living.Room</th>\n",
       "      <th>Bathroom</th>\n",
       "    </tr>\n",
       "  </thead>\n",
       "  <tbody>\n",
       "    <tr>\n",
       "      <th>0</th>\n",
       "      <td>1177.698</td>\n",
       "      <td>2</td>\n",
       "      <td>2</td>\n",
       "      <td>2</td>\n",
       "    </tr>\n",
       "    <tr>\n",
       "      <th>1</th>\n",
       "      <td>2134.800</td>\n",
       "      <td>4</td>\n",
       "      <td>2</td>\n",
       "      <td>2</td>\n",
       "    </tr>\n",
       "    <tr>\n",
       "      <th>2</th>\n",
       "      <td>1138.560</td>\n",
       "      <td>2</td>\n",
       "      <td>2</td>\n",
       "      <td>1</td>\n",
       "    </tr>\n",
       "  </tbody>\n",
       "</table>\n",
       "</div>"
      ],
      "text/plain": [
       "       Sqft  Bedroom  Living.Room  Bathroom\n",
       "0  1177.698        2            2         2\n",
       "1  2134.800        4            2         2\n",
       "2  1138.560        2            2         1"
      ]
     },
     "execution_count": 37,
     "metadata": {},
     "output_type": "execute_result"
    }
   ],
   "source": [
    "X1 = house1.drop(['Floor','TotalFloor','Price'], axis=1)\n",
    "y = house1['Price'].values.reshape(-1,1)\n",
    "X1.head(3)"
   ]
  },
  {
   "cell_type": "code",
   "execution_count": 38,
   "metadata": {},
   "outputs": [
    {
     "name": "stdout",
     "output_type": "stream",
     "text": [
      "(483, 4) (162, 4)\n"
     ]
    }
   ],
   "source": [
    "X_train, X_test, y_train, y_test = train_test_split(X1, y, test_size = 0.25)\n",
    "print (X_train.shape, X_test.shape)"
   ]
  },
  {
   "cell_type": "code",
   "execution_count": 39,
   "metadata": {},
   "outputs": [
    {
     "data": {
      "text/plain": [
       "LinearRegression(copy_X=True, fit_intercept=True, n_jobs=None, normalize=False)"
      ]
     },
     "execution_count": 39,
     "metadata": {},
     "output_type": "execute_result"
    }
   ],
   "source": [
    "reg = LinearRegression()\n",
    "reg.fit(X_train, y_train)"
   ]
  },
  {
   "cell_type": "code",
   "execution_count": 40,
   "metadata": {},
   "outputs": [
    {
     "name": "stdout",
     "output_type": "stream",
     "text": [
      "[   39.80321461 -2488.78035057 -4804.57693307  3568.50489595]\n",
      "[10445.57378692]\n"
     ]
    }
   ],
   "source": [
    "print (reg.coef_[0])\n",
    "print (reg.intercept_)"
   ]
  },
  {
   "cell_type": "code",
   "execution_count": 41,
   "metadata": {},
   "outputs": [
    {
     "data": {
      "text/html": [
       "<div>\n",
       "<style scoped>\n",
       "    .dataframe tbody tr th:only-of-type {\n",
       "        vertical-align: middle;\n",
       "    }\n",
       "\n",
       "    .dataframe tbody tr th {\n",
       "        vertical-align: top;\n",
       "    }\n",
       "\n",
       "    .dataframe thead th {\n",
       "        text-align: right;\n",
       "    }\n",
       "</style>\n",
       "<table border=\"1\" class=\"dataframe\">\n",
       "  <thead>\n",
       "    <tr style=\"text-align: right;\">\n",
       "      <th></th>\n",
       "      <th>Coefficient</th>\n",
       "    </tr>\n",
       "  </thead>\n",
       "  <tbody>\n",
       "    <tr>\n",
       "      <th>Sqft</th>\n",
       "      <td>39.803215</td>\n",
       "    </tr>\n",
       "    <tr>\n",
       "      <th>Bedroom</th>\n",
       "      <td>-2488.780351</td>\n",
       "    </tr>\n",
       "    <tr>\n",
       "      <th>Living.Room</th>\n",
       "      <td>-4804.576933</td>\n",
       "    </tr>\n",
       "    <tr>\n",
       "      <th>Bathroom</th>\n",
       "      <td>3568.504896</td>\n",
       "    </tr>\n",
       "  </tbody>\n",
       "</table>\n",
       "</div>"
      ],
      "text/plain": [
       "             Coefficient\n",
       "Sqft           39.803215\n",
       "Bedroom     -2488.780351\n",
       "Living.Room -4804.576933\n",
       "Bathroom     3568.504896"
      ]
     },
     "execution_count": 41,
     "metadata": {},
     "output_type": "execute_result"
    }
   ],
   "source": [
    "coef_new = pd.DataFrame (reg.coef_[0], X1.columns, columns = ['Coefficient'])\n",
    "coef_new"
   ]
  },
  {
   "cell_type": "code",
   "execution_count": 45,
   "metadata": {},
   "outputs": [
    {
     "name": "stdout",
     "output_type": "stream",
     "text": [
      "the linear model is: Price = 10445.57 + 39.803*Sqft + -2488.8*Bedroom +-4804.6*Living.Room + 3568.5*Bathroom\n"
     ]
    }
   ],
   "source": [
    "print (\"the linear model is: Price = {:.7} + {:.5}*Sqft + {:.5}*Bedroom +{:.5}*Living.Room + {:.5}*Bathroom\". format(reg.intercept_[0], reg.coef_[0][0], reg.coef_[0][1], reg.coef_[0][2], reg.coef_[0][3]))"
   ]
  },
  {
   "cell_type": "code",
   "execution_count": 46,
   "metadata": {},
   "outputs": [
    {
     "data": {
      "text/plain": [
       "6760.472999999999"
      ]
     },
     "execution_count": 46,
     "metadata": {},
     "output_type": "execute_result"
    }
   ],
   "source": [
    "Price = 10445.57 + 39.803*1 + -2488.8*1 +-4804.6*1 + 3568.5*1\n",
    "Price    "
   ]
  },
  {
   "cell_type": "code",
   "execution_count": 47,
   "metadata": {},
   "outputs": [
    {
     "data": {
      "text/plain": [
       "0.6868225843326735"
      ]
     },
     "execution_count": 47,
     "metadata": {},
     "output_type": "execute_result"
    }
   ],
   "source": [
    "reg.score(X1,y)"
   ]
  },
  {
   "cell_type": "code",
   "execution_count": 48,
   "metadata": {},
   "outputs": [],
   "source": [
    "from sklearn import metrics\n",
    "y_pred = reg.predict(X_test)"
   ]
  },
  {
   "cell_type": "code",
   "execution_count": 49,
   "metadata": {},
   "outputs": [
    {
     "name": "stdout",
     "output_type": "stream",
     "text": [
      "Mean Absolute Error 14180.770201027824\n"
     ]
    }
   ],
   "source": [
    "print (\"Mean Absolute Error\", metrics.mean_absolute_error(y_test, y_pred))"
   ]
  },
  {
   "cell_type": "code",
   "execution_count": 50,
   "metadata": {},
   "outputs": [
    {
     "name": "stdout",
     "output_type": "stream",
     "text": [
      "Root Mean Squared Error 19037.930847931653\n"
     ]
    }
   ],
   "source": [
    "print (\"Root Mean Squared Error\", np.sqrt(metrics.mean_squared_error(y_test, y_pred)))"
   ]
  },
  {
   "cell_type": "code",
   "execution_count": 51,
   "metadata": {},
   "outputs": [],
   "source": [
    "X = np.column_stack((house1['Sqft'], house1['Bedroom'], house1['Living.Room'], house1['Bathroom']))\n",
    "y= house1['Price']"
   ]
  },
  {
   "cell_type": "code",
   "execution_count": 52,
   "metadata": {},
   "outputs": [
    {
     "data": {
      "text/plain": [
       "array([[1.000000e+00, 1.177698e+03, 2.000000e+00, 2.000000e+00,\n",
       "        2.000000e+00],\n",
       "       [1.000000e+00, 2.134800e+03, 4.000000e+00, 2.000000e+00,\n",
       "        2.000000e+00],\n",
       "       [1.000000e+00, 1.138560e+03, 2.000000e+00, 2.000000e+00,\n",
       "        1.000000e+00],\n",
       "       ...,\n",
       "       [1.000000e+00, 7.400640e+02, 1.000000e+00, 1.000000e+00,\n",
       "        1.000000e+00],\n",
       "       [1.000000e+00, 1.707840e+03, 3.000000e+00, 2.000000e+00,\n",
       "        2.000000e+00],\n",
       "       [1.000000e+00, 1.376946e+03, 3.000000e+00, 2.000000e+00,\n",
       "        1.000000e+00]])"
      ]
     },
     "execution_count": 52,
     "metadata": {},
     "output_type": "execute_result"
    }
   ],
   "source": [
    "import statsmodels.api as sm\n",
    "X2_1 = sm.add_constant(X)\n",
    "X2_1"
   ]
  },
  {
   "cell_type": "code",
   "execution_count": 53,
   "metadata": {},
   "outputs": [
    {
     "name": "stdout",
     "output_type": "stream",
     "text": [
      "                            OLS Regression Results                            \n",
      "==============================================================================\n",
      "Dep. Variable:                  Price   R-squared:                       0.699\n",
      "Model:                            OLS   Adj. R-squared:                  0.698\n",
      "Method:                 Least Squares   F-statistic:                     497.2\n",
      "Date:                Fri, 11 Sep 2020   Prob (F-statistic):          8.18e-167\n",
      "Time:                        06:41:46   Log-Likelihood:                -7287.4\n",
      "No. Observations:                 645   AIC:                         1.458e+04\n",
      "Df Residuals:                     641   BIC:                         1.460e+04\n",
      "Df Model:                           3                                         \n",
      "Covariance Type:            nonrobust                                         \n",
      "==============================================================================\n",
      "                 coef    std err          t      P>|t|      [0.025      0.975]\n",
      "------------------------------------------------------------------------------\n",
      "const       2848.1530   3365.662      0.846      0.398   -3760.902    9457.208\n",
      "x1            38.4802      1.147     33.544      0.000      36.228      40.733\n",
      "x2          1144.4697    201.739      5.673      0.000     748.320    1540.619\n",
      "x3         -3552.1989   1884.817     -1.885      0.060   -7253.362     148.964\n",
      "==============================================================================\n",
      "Omnibus:                      152.307   Durbin-Watson:                   1.980\n",
      "Prob(Omnibus):                  0.000   Jarque-Bera (JB):              553.936\n",
      "Skew:                           1.066   Prob(JB):                    5.18e-121\n",
      "Kurtosis:                       7.008   Cond. No.                     8.26e+03\n",
      "==============================================================================\n",
      "\n",
      "Warnings:\n",
      "[1] Standard Errors assume that the covariance matrix of the errors is correctly specified.\n",
      "[2] The condition number is large, 8.26e+03. This might indicate that there are\n",
      "strong multicollinearity or other numerical problems.\n"
     ]
    }
   ],
   "source": [
    "reg_sm =sm.OLS(y,X_2)\n",
    "reg_fit = reg_sm.fit()\n",
    "print (reg_fit.summary())"
   ]
  },
  {
   "cell_type": "code",
   "execution_count": null,
   "metadata": {},
   "outputs": [],
   "source": [
    "# Polynomial Regression"
   ]
  },
  {
   "cell_type": "code",
   "execution_count": 54,
   "metadata": {
    "scrolled": true
   },
   "outputs": [
    {
     "data": {
      "text/html": [
       "<div>\n",
       "<style scoped>\n",
       "    .dataframe tbody tr th:only-of-type {\n",
       "        vertical-align: middle;\n",
       "    }\n",
       "\n",
       "    .dataframe tbody tr th {\n",
       "        vertical-align: top;\n",
       "    }\n",
       "\n",
       "    .dataframe thead th {\n",
       "        text-align: right;\n",
       "    }\n",
       "</style>\n",
       "<table border=\"1\" class=\"dataframe\">\n",
       "  <thead>\n",
       "    <tr style=\"text-align: right;\">\n",
       "      <th></th>\n",
       "      <th>Sqft</th>\n",
       "      <th>Floor</th>\n",
       "      <th>TotalFloor</th>\n",
       "      <th>Bedroom</th>\n",
       "      <th>Living.Room</th>\n",
       "      <th>Bathroom</th>\n",
       "      <th>Price</th>\n",
       "    </tr>\n",
       "  </thead>\n",
       "  <tbody>\n",
       "    <tr>\n",
       "      <th>0</th>\n",
       "      <td>1177.698</td>\n",
       "      <td>2</td>\n",
       "      <td>7</td>\n",
       "      <td>2</td>\n",
       "      <td>2</td>\n",
       "      <td>2</td>\n",
       "      <td>62000</td>\n",
       "    </tr>\n",
       "    <tr>\n",
       "      <th>1</th>\n",
       "      <td>2134.800</td>\n",
       "      <td>5</td>\n",
       "      <td>7</td>\n",
       "      <td>4</td>\n",
       "      <td>2</td>\n",
       "      <td>2</td>\n",
       "      <td>78000</td>\n",
       "    </tr>\n",
       "    <tr>\n",
       "      <th>2</th>\n",
       "      <td>1138.560</td>\n",
       "      <td>5</td>\n",
       "      <td>7</td>\n",
       "      <td>2</td>\n",
       "      <td>2</td>\n",
       "      <td>1</td>\n",
       "      <td>58000</td>\n",
       "    </tr>\n",
       "  </tbody>\n",
       "</table>\n",
       "</div>"
      ],
      "text/plain": [
       "       Sqft  Floor  TotalFloor  Bedroom  Living.Room  Bathroom  Price\n",
       "0  1177.698      2           7        2            2         2  62000\n",
       "1  2134.800      5           7        4            2         2  78000\n",
       "2  1138.560      5           7        2            2         1  58000"
      ]
     },
     "execution_count": 54,
     "metadata": {},
     "output_type": "execute_result"
    }
   ],
   "source": [
    "house1.head(3)"
   ]
  },
  {
   "cell_type": "code",
   "execution_count": 55,
   "metadata": {},
   "outputs": [
    {
     "data": {
      "text/html": [
       "<div>\n",
       "<style scoped>\n",
       "    .dataframe tbody tr th:only-of-type {\n",
       "        vertical-align: middle;\n",
       "    }\n",
       "\n",
       "    .dataframe tbody tr th {\n",
       "        vertical-align: top;\n",
       "    }\n",
       "\n",
       "    .dataframe thead th {\n",
       "        text-align: right;\n",
       "    }\n",
       "</style>\n",
       "<table border=\"1\" class=\"dataframe\">\n",
       "  <thead>\n",
       "    <tr style=\"text-align: right;\">\n",
       "      <th></th>\n",
       "      <th>Sqft</th>\n",
       "      <th>Bedroom</th>\n",
       "      <th>Living.Room</th>\n",
       "      <th>Bathroom</th>\n",
       "    </tr>\n",
       "  </thead>\n",
       "  <tbody>\n",
       "    <tr>\n",
       "      <th>0</th>\n",
       "      <td>1177.698</td>\n",
       "      <td>2</td>\n",
       "      <td>2</td>\n",
       "      <td>2</td>\n",
       "    </tr>\n",
       "    <tr>\n",
       "      <th>1</th>\n",
       "      <td>2134.800</td>\n",
       "      <td>4</td>\n",
       "      <td>2</td>\n",
       "      <td>2</td>\n",
       "    </tr>\n",
       "    <tr>\n",
       "      <th>2</th>\n",
       "      <td>1138.560</td>\n",
       "      <td>2</td>\n",
       "      <td>2</td>\n",
       "      <td>1</td>\n",
       "    </tr>\n",
       "  </tbody>\n",
       "</table>\n",
       "</div>"
      ],
      "text/plain": [
       "       Sqft  Bedroom  Living.Room  Bathroom\n",
       "0  1177.698        2            2         2\n",
       "1  2134.800        4            2         2\n",
       "2  1138.560        2            2         1"
      ]
     },
     "execution_count": 55,
     "metadata": {},
     "output_type": "execute_result"
    }
   ],
   "source": [
    "X1.head(3)"
   ]
  },
  {
   "cell_type": "code",
   "execution_count": 56,
   "metadata": {},
   "outputs": [],
   "source": [
    "X_train, X_test, y_train, y_test = train_test_split(X1, y, test_size = 0.25, random_state=0)"
   ]
  },
  {
   "cell_type": "code",
   "execution_count": 57,
   "metadata": {},
   "outputs": [
    {
     "data": {
      "text/plain": [
       "LinearRegression(copy_X=True, fit_intercept=True, n_jobs=None, normalize=False)"
      ]
     },
     "execution_count": 57,
     "metadata": {},
     "output_type": "execute_result"
    }
   ],
   "source": [
    "lin_reg = LinearRegression()\n",
    "lin_reg.fit(X, y)"
   ]
  },
  {
   "cell_type": "code",
   "execution_count": 58,
   "metadata": {
    "scrolled": true
   },
   "outputs": [
    {
     "ename": "ValueError",
     "evalue": "x and y must be the same size",
     "output_type": "error",
     "traceback": [
      "\u001b[1;31m---------------------------------------------------------------------------\u001b[0m",
      "\u001b[1;31mValueError\u001b[0m                                Traceback (most recent call last)",
      "\u001b[1;32m<ipython-input-58-a28c56543e74>\u001b[0m in \u001b[0;36m<module>\u001b[1;34m\u001b[0m\n\u001b[1;32m----> 1\u001b[1;33m \u001b[0mplt\u001b[0m\u001b[1;33m.\u001b[0m\u001b[0mscatter\u001b[0m \u001b[1;33m(\u001b[0m\u001b[0mX\u001b[0m\u001b[1;33m,\u001b[0m \u001b[0my\u001b[0m\u001b[1;33m,\u001b[0m \u001b[0mcolor\u001b[0m \u001b[1;33m=\u001b[0m\u001b[1;34m'green'\u001b[0m\u001b[1;33m)\u001b[0m\u001b[1;33m\u001b[0m\u001b[1;33m\u001b[0m\u001b[0m\n\u001b[0m\u001b[0;32m      2\u001b[0m \u001b[0mplt\u001b[0m\u001b[1;33m.\u001b[0m\u001b[0mplot\u001b[0m \u001b[1;33m(\u001b[0m\u001b[0mX\u001b[0m\u001b[1;33m,\u001b[0m \u001b[0mlin_reg\u001b[0m\u001b[1;33m.\u001b[0m\u001b[0mpredict\u001b[0m\u001b[1;33m(\u001b[0m\u001b[0mX\u001b[0m\u001b[1;33m)\u001b[0m\u001b[1;33m,\u001b[0m \u001b[0mcolor\u001b[0m\u001b[1;33m=\u001b[0m \u001b[1;34m'red'\u001b[0m\u001b[1;33m)\u001b[0m\u001b[1;33m\u001b[0m\u001b[1;33m\u001b[0m\u001b[0m\n\u001b[0;32m      3\u001b[0m \u001b[0mplt\u001b[0m\u001b[1;33m.\u001b[0m\u001b[0mtitle\u001b[0m \u001b[1;33m(\u001b[0m\u001b[1;34m\"LR_Poly_House\"\u001b[0m\u001b[1;33m)\u001b[0m\u001b[1;33m\u001b[0m\u001b[1;33m\u001b[0m\u001b[0m\n\u001b[0;32m      4\u001b[0m \u001b[0mplt\u001b[0m\u001b[1;33m.\u001b[0m\u001b[0mxlabel\u001b[0m \u001b[1;33m(\u001b[0m\u001b[1;34m'House Features'\u001b[0m\u001b[1;33m)\u001b[0m\u001b[1;33m\u001b[0m\u001b[1;33m\u001b[0m\u001b[0m\n\u001b[0;32m      5\u001b[0m \u001b[0mplt\u001b[0m\u001b[1;33m.\u001b[0m\u001b[0mylabel\u001b[0m \u001b[1;33m(\u001b[0m\u001b[1;34m'Price'\u001b[0m\u001b[1;33m)\u001b[0m\u001b[1;33m\u001b[0m\u001b[1;33m\u001b[0m\u001b[0m\n",
      "\u001b[1;32m~\\anaconda3\\lib\\site-packages\\matplotlib\\pyplot.py\u001b[0m in \u001b[0;36mscatter\u001b[1;34m(x, y, s, c, marker, cmap, norm, vmin, vmax, alpha, linewidths, verts, edgecolors, plotnonfinite, data, **kwargs)\u001b[0m\n\u001b[0;32m   2846\u001b[0m         \u001b[0mverts\u001b[0m\u001b[1;33m=\u001b[0m\u001b[0mverts\u001b[0m\u001b[1;33m,\u001b[0m \u001b[0medgecolors\u001b[0m\u001b[1;33m=\u001b[0m\u001b[0medgecolors\u001b[0m\u001b[1;33m,\u001b[0m\u001b[1;33m\u001b[0m\u001b[1;33m\u001b[0m\u001b[0m\n\u001b[0;32m   2847\u001b[0m         plotnonfinite=plotnonfinite, **({\"data\": data} if data is not\n\u001b[1;32m-> 2848\u001b[1;33m         None else {}), **kwargs)\n\u001b[0m\u001b[0;32m   2849\u001b[0m     \u001b[0msci\u001b[0m\u001b[1;33m(\u001b[0m\u001b[0m__ret\u001b[0m\u001b[1;33m)\u001b[0m\u001b[1;33m\u001b[0m\u001b[1;33m\u001b[0m\u001b[0m\n\u001b[0;32m   2850\u001b[0m     \u001b[1;32mreturn\u001b[0m \u001b[0m__ret\u001b[0m\u001b[1;33m\u001b[0m\u001b[1;33m\u001b[0m\u001b[0m\n",
      "\u001b[1;32m~\\anaconda3\\lib\\site-packages\\matplotlib\\__init__.py\u001b[0m in \u001b[0;36minner\u001b[1;34m(ax, data, *args, **kwargs)\u001b[0m\n\u001b[0;32m   1597\u001b[0m     \u001b[1;32mdef\u001b[0m \u001b[0minner\u001b[0m\u001b[1;33m(\u001b[0m\u001b[0max\u001b[0m\u001b[1;33m,\u001b[0m \u001b[1;33m*\u001b[0m\u001b[0margs\u001b[0m\u001b[1;33m,\u001b[0m \u001b[0mdata\u001b[0m\u001b[1;33m=\u001b[0m\u001b[1;32mNone\u001b[0m\u001b[1;33m,\u001b[0m \u001b[1;33m**\u001b[0m\u001b[0mkwargs\u001b[0m\u001b[1;33m)\u001b[0m\u001b[1;33m:\u001b[0m\u001b[1;33m\u001b[0m\u001b[1;33m\u001b[0m\u001b[0m\n\u001b[0;32m   1598\u001b[0m         \u001b[1;32mif\u001b[0m \u001b[0mdata\u001b[0m \u001b[1;32mis\u001b[0m \u001b[1;32mNone\u001b[0m\u001b[1;33m:\u001b[0m\u001b[1;33m\u001b[0m\u001b[1;33m\u001b[0m\u001b[0m\n\u001b[1;32m-> 1599\u001b[1;33m             \u001b[1;32mreturn\u001b[0m \u001b[0mfunc\u001b[0m\u001b[1;33m(\u001b[0m\u001b[0max\u001b[0m\u001b[1;33m,\u001b[0m \u001b[1;33m*\u001b[0m\u001b[0mmap\u001b[0m\u001b[1;33m(\u001b[0m\u001b[0msanitize_sequence\u001b[0m\u001b[1;33m,\u001b[0m \u001b[0margs\u001b[0m\u001b[1;33m)\u001b[0m\u001b[1;33m,\u001b[0m \u001b[1;33m**\u001b[0m\u001b[0mkwargs\u001b[0m\u001b[1;33m)\u001b[0m\u001b[1;33m\u001b[0m\u001b[1;33m\u001b[0m\u001b[0m\n\u001b[0m\u001b[0;32m   1600\u001b[0m \u001b[1;33m\u001b[0m\u001b[0m\n\u001b[0;32m   1601\u001b[0m         \u001b[0mbound\u001b[0m \u001b[1;33m=\u001b[0m \u001b[0mnew_sig\u001b[0m\u001b[1;33m.\u001b[0m\u001b[0mbind\u001b[0m\u001b[1;33m(\u001b[0m\u001b[0max\u001b[0m\u001b[1;33m,\u001b[0m \u001b[1;33m*\u001b[0m\u001b[0margs\u001b[0m\u001b[1;33m,\u001b[0m \u001b[1;33m**\u001b[0m\u001b[0mkwargs\u001b[0m\u001b[1;33m)\u001b[0m\u001b[1;33m\u001b[0m\u001b[1;33m\u001b[0m\u001b[0m\n",
      "\u001b[1;32m~\\anaconda3\\lib\\site-packages\\matplotlib\\axes\\_axes.py\u001b[0m in \u001b[0;36mscatter\u001b[1;34m(self, x, y, s, c, marker, cmap, norm, vmin, vmax, alpha, linewidths, verts, edgecolors, plotnonfinite, **kwargs)\u001b[0m\n\u001b[0;32m   4441\u001b[0m         \u001b[0my\u001b[0m \u001b[1;33m=\u001b[0m \u001b[0mnp\u001b[0m\u001b[1;33m.\u001b[0m\u001b[0mma\u001b[0m\u001b[1;33m.\u001b[0m\u001b[0mravel\u001b[0m\u001b[1;33m(\u001b[0m\u001b[0my\u001b[0m\u001b[1;33m)\u001b[0m\u001b[1;33m\u001b[0m\u001b[1;33m\u001b[0m\u001b[0m\n\u001b[0;32m   4442\u001b[0m         \u001b[1;32mif\u001b[0m \u001b[0mx\u001b[0m\u001b[1;33m.\u001b[0m\u001b[0msize\u001b[0m \u001b[1;33m!=\u001b[0m \u001b[0my\u001b[0m\u001b[1;33m.\u001b[0m\u001b[0msize\u001b[0m\u001b[1;33m:\u001b[0m\u001b[1;33m\u001b[0m\u001b[1;33m\u001b[0m\u001b[0m\n\u001b[1;32m-> 4443\u001b[1;33m             \u001b[1;32mraise\u001b[0m \u001b[0mValueError\u001b[0m\u001b[1;33m(\u001b[0m\u001b[1;34m\"x and y must be the same size\"\u001b[0m\u001b[1;33m)\u001b[0m\u001b[1;33m\u001b[0m\u001b[1;33m\u001b[0m\u001b[0m\n\u001b[0m\u001b[0;32m   4444\u001b[0m \u001b[1;33m\u001b[0m\u001b[0m\n\u001b[0;32m   4445\u001b[0m         \u001b[1;32mif\u001b[0m \u001b[0ms\u001b[0m \u001b[1;32mis\u001b[0m \u001b[1;32mNone\u001b[0m\u001b[1;33m:\u001b[0m\u001b[1;33m\u001b[0m\u001b[1;33m\u001b[0m\u001b[0m\n",
      "\u001b[1;31mValueError\u001b[0m: x and y must be the same size"
     ]
    },
    {
     "data": {
      "image/png": "[encoded data removed]",
      "text/plain": [
       "<Figure size 432x288 with 1 Axes>"
      ]
     },
     "metadata": {
      "needs_background": "light"
     },
     "output_type": "display_data"
    }
   ],
   "source": [
    "plt.scatter (X, y, color ='green')\n",
    "plt.plot (X, lin_reg.predict(X), color= 'red')\n",
    "plt.title (\"LR_Poly_House\")\n",
    "plt.xlabel ('House Features')\n",
    "plt.ylabel ('Price')\n",
    "plt.show()"
   ]
  },
  {
   "cell_type": "code",
   "execution_count": 66,
   "metadata": {},
   "outputs": [],
   "source": [
    "X = house1.loc[:,'Sqft'].values.reshape(-1,1) \n",
    "y = house1.loc[:, 'Price'].values.reshape(-1,1)"
   ]
  },
  {
   "cell_type": "code",
   "execution_count": 67,
   "metadata": {
    "collapsed": true
   },
   "outputs": [
    {
     "data": {
      "text/plain": [
       "array([[1177.698],\n",
       "       [2134.8  ],\n",
       "       [1138.56 ],\n",
       "       [1458.78 ],\n",
       "       [ 967.776],\n",
       "       [1127.886],\n",
       "       [1352.04 ],\n",
       "       [ 757.854],\n",
       "       [1152.792],\n",
       "       [1423.2  ],\n",
       "       [ 668.904],\n",
       "       [ 711.6  ],\n",
       "       [1352.04 ],\n",
       "       [ 818.34 ],\n",
       "       [2134.8  ],\n",
       "       [2768.124],\n",
       "       [ 711.6  ],\n",
       "       [ 462.54 ],\n",
       "       [2739.66 ],\n",
       "       [1174.14 ],\n",
       "       [2490.6  ],\n",
       "       [2768.124],\n",
       "       [ 747.18 ],\n",
       "       [1668.702],\n",
       "       [3664.74 ],\n",
       "       [1779.   ],\n",
       "       [3664.74 ],\n",
       "       [3059.88 ],\n",
       "       [ 533.7  ],\n",
       "       [ 853.92 ],\n",
       "       [1732.746],\n",
       "       [1245.3  ],\n",
       "       [2134.8  ],\n",
       "       [1206.162],\n",
       "       [ 861.036],\n",
       "       [ 462.54 ],\n",
       "       [ 434.076],\n",
       "       [ 768.528],\n",
       "       [3735.9  ],\n",
       "       [ 889.5  ],\n",
       "       [3063.438],\n",
       "       [ 925.08 ],\n",
       "       [1174.14 ],\n",
       "       [1352.04 ],\n",
       "       [1771.884],\n",
       "       [1601.1  ],\n",
       "       [1487.244],\n",
       "       [2277.12 ],\n",
       "       [3735.9  ],\n",
       "       [ 711.6  ],\n",
       "       [2241.54 ],\n",
       "       [1494.36 ],\n",
       "       [ 711.6  ],\n",
       "       [ 889.5  ],\n",
       "       [4643.19 ],\n",
       "       [2191.728],\n",
       "       [ 640.44 ],\n",
       "       [1067.4  ],\n",
       "       [ 640.44 ],\n",
       "       [1362.714],\n",
       "       [ 604.86 ],\n",
       "       [ 889.5  ],\n",
       "       [1423.2  ],\n",
       "       [1184.814],\n",
       "       [ 391.38 ],\n",
       "       [ 426.96 ],\n",
       "       [1067.4  ],\n",
       "       [ 533.7  ],\n",
       "       [ 462.54 ],\n",
       "       [1270.206],\n",
       "       [ 889.5  ],\n",
       "       [1284.438],\n",
       "       [1892.856],\n",
       "       [ 996.24 ],\n",
       "       [ 711.6  ],\n",
       "       [1754.094],\n",
       "       [2063.64 ],\n",
       "       [1522.824],\n",
       "       [1540.614],\n",
       "       [ 914.406],\n",
       "       [1558.404],\n",
       "       [ 772.086],\n",
       "       [ 711.6  ],\n",
       "       [ 747.18 ],\n",
       "       [1227.51 ],\n",
       "       [1451.664],\n",
       "       [3255.57 ],\n",
       "       [1779.   ],\n",
       "       [1892.856],\n",
       "       [2312.7  ],\n",
       "       [1992.48 ],\n",
       "       [2063.64 ],\n",
       "       [1529.94 ],\n",
       "       [2145.474],\n",
       "       [2170.38 ],\n",
       "       [1771.884],\n",
       "       [1956.9  ],\n",
       "       [1743.42 ],\n",
       "       [1707.84 ],\n",
       "       [2063.64 ],\n",
       "       [2366.07 ],\n",
       "       [1814.58 ],\n",
       "       [2938.908],\n",
       "       [3173.736],\n",
       "       [2917.56 ],\n",
       "       [1786.116],\n",
       "       [3202.2  ],\n",
       "       [ 583.512],\n",
       "       [2099.22 ],\n",
       "       [2063.64 ],\n",
       "       [2099.22 ],\n",
       "       [ 857.478],\n",
       "       [2227.308],\n",
       "       [2088.546],\n",
       "       [1423.2  ],\n",
       "       [1569.078],\n",
       "       [3202.2  ],\n",
       "       [ 711.6  ],\n",
       "       [ 391.38 ],\n",
       "       [ 960.66 ],\n",
       "       [ 878.826],\n",
       "       [1280.88 ],\n",
       "       [2134.8  ],\n",
       "       [2149.032],\n",
       "       [2543.97 ],\n",
       "       [1206.162],\n",
       "       [1280.88 ],\n",
       "       [2067.198],\n",
       "       [1184.814],\n",
       "       [ 732.948],\n",
       "       [1529.94 ],\n",
       "       [1572.636],\n",
       "       [2540.412],\n",
       "       [1135.002],\n",
       "       [1544.172],\n",
       "       [1921.32 ],\n",
       "       [ 772.086],\n",
       "       [1754.094],\n",
       "       [2558.202],\n",
       "       [1195.488],\n",
       "       [3323.172],\n",
       "       [1223.952],\n",
       "       [1184.814],\n",
       "       [1223.952],\n",
       "       [1245.3  ],\n",
       "       [ 533.7  ],\n",
       "       [2028.06 ],\n",
       "       [4981.2  ],\n",
       "       [1245.3  ],\n",
       "       [1707.84 ],\n",
       "       [1779.   ],\n",
       "       [1956.9  ],\n",
       "       [1779.   ],\n",
       "       [ 889.5  ],\n",
       "       [ 996.24 ],\n",
       "       [1067.4  ],\n",
       "       [ 900.174],\n",
       "       [1704.282],\n",
       "       [1284.438],\n",
       "       [1565.52 ],\n",
       "       [1487.244],\n",
       "       [ 572.838],\n",
       "       [ 683.136],\n",
       "       [4091.7  ],\n",
       "       [1124.328],\n",
       "       [1789.674],\n",
       "       [1889.298],\n",
       "       [2205.96 ],\n",
       "       [1601.1  ],\n",
       "       [1085.19 ],\n",
       "       [1921.32 ],\n",
       "       [1707.84 ],\n",
       "       [2120.568],\n",
       "       [2782.356],\n",
       "       [ 914.406],\n",
       "       [1850.16 ],\n",
       "       [1889.298],\n",
       "       [1245.3  ],\n",
       "       [1494.36 ],\n",
       "       [1487.244],\n",
       "       [1690.05 ],\n",
       "       [ 796.992],\n",
       "       [3255.57 ],\n",
       "       [1063.842],\n",
       "       [1263.09 ],\n",
       "       [1352.04 ],\n",
       "       [1287.996],\n",
       "       [1167.024],\n",
       "       [1167.024],\n",
       "       [1839.486],\n",
       "       [ 796.992],\n",
       "       [ 601.302],\n",
       "       [2156.148],\n",
       "       [2138.358],\n",
       "       [1779.   ],\n",
       "       [1779.   ],\n",
       "       [1732.746],\n",
       "       [ 526.584],\n",
       "       [ 718.716],\n",
       "       [1601.1  ],\n",
       "       [1174.14 ],\n",
       "       [1408.968],\n",
       "       [1387.62 ],\n",
       "       [ 604.86 ],\n",
       "       [1380.504],\n",
       "       [2134.8  ],\n",
       "       [ 740.064],\n",
       "       [1031.82 ],\n",
       "       [1526.382],\n",
       "       [1601.1  ],\n",
       "       [1423.2  ],\n",
       "       [ 384.264],\n",
       "       [1996.038],\n",
       "       [ 718.716],\n",
       "       [1366.272],\n",
       "       [1743.42 ],\n",
       "       [1636.68 ],\n",
       "       [1903.53 ],\n",
       "       [ 668.904],\n",
       "       [2430.114],\n",
       "       [1298.67 ],\n",
       "       [2138.358],\n",
       "       [2963.814],\n",
       "       [ 533.7  ],\n",
       "       [2262.888],\n",
       "       [ 590.628],\n",
       "       [ 964.218],\n",
       "       [ 796.992],\n",
       "       [2408.766],\n",
       "       [1700.724],\n",
       "       [1672.26 ],\n",
       "       [1469.454],\n",
       "       [2067.198],\n",
       "       [1754.094],\n",
       "       [1757.652],\n",
       "       [ 587.07 ],\n",
       "       [1487.244],\n",
       "       [1487.244],\n",
       "       [ 789.876],\n",
       "       [2006.712],\n",
       "       [ 871.71 ],\n",
       "       [1522.824],\n",
       "       [3173.736],\n",
       "       [1899.972],\n",
       "       [2205.96 ],\n",
       "       [1106.538],\n",
       "       [2668.5  ],\n",
       "       [ 882.384],\n",
       "       [3255.57 ],\n",
       "       [2138.358],\n",
       "       [1579.752],\n",
       "       [2768.124],\n",
       "       [2081.43 ],\n",
       "       [1700.724],\n",
       "       [2134.8  ],\n",
       "       [ 718.716],\n",
       "       [ 754.296],\n",
       "       [1387.62 ],\n",
       "       [3558.   ],\n",
       "       [1515.708],\n",
       "       [ 914.406],\n",
       "       [ 711.6  ],\n",
       "       [1487.244],\n",
       "       [2138.358],\n",
       "       [1127.886],\n",
       "       [1135.002],\n",
       "       [ 665.346],\n",
       "       [ 925.08 ],\n",
       "       [1209.72 ],\n",
       "       [1337.808],\n",
       "       [1366.272],\n",
       "       [2052.966],\n",
       "       [ 711.6  ],\n",
       "       [ 533.7  ],\n",
       "       [1138.56 ],\n",
       "       [1458.78 ],\n",
       "       [1245.3  ],\n",
       "       [1814.58 ],\n",
       "       [1515.708],\n",
       "       [ 811.224],\n",
       "       [ 359.358],\n",
       "       [1882.182],\n",
       "       [1419.642],\n",
       "       [1394.736],\n",
       "       [2063.64 ],\n",
       "       [1661.586],\n",
       "       [3504.63 ],\n",
       "       [1871.508],\n",
       "       [ 640.44 ],\n",
       "       [2430.114],\n",
       "       [1519.266],\n",
       "       [ 761.412],\n",
       "       [1903.53 ],\n",
       "       [1163.466],\n",
       "       [1779.   ],\n",
       "       [1579.752],\n",
       "       [3145.272],\n",
       "       [3148.83 ],\n",
       "       [2700.522],\n",
       "       [3664.74 ],\n",
       "       [2134.8  ],\n",
       "       [1700.724],\n",
       "       [1380.504],\n",
       "       [2052.966],\n",
       "       [1871.508],\n",
       "       [1430.316],\n",
       "       [1579.752],\n",
       "       [1672.26 ],\n",
       "       [1270.206],\n",
       "       [1245.3  ],\n",
       "       [1458.78 ],\n",
       "       [1707.84 ],\n",
       "       [1515.708],\n",
       "       [1408.968],\n",
       "       [1476.57 ],\n",
       "       [1700.724],\n",
       "       [2590.224],\n",
       "       [2408.766],\n",
       "       [1779.   ],\n",
       "       [2099.22 ],\n",
       "       [1206.162],\n",
       "       [ 989.124],\n",
       "       [3173.736],\n",
       "       [2444.346],\n",
       "       [ 722.274],\n",
       "       [1707.84 ],\n",
       "       [1444.548],\n",
       "       [2892.654],\n",
       "       [ 711.6  ],\n",
       "       [1423.2  ],\n",
       "       [1494.36 ],\n",
       "       [2184.612],\n",
       "       [ 601.302],\n",
       "       [3558.   ],\n",
       "       [2102.778],\n",
       "       [1138.56 ],\n",
       "       [1579.752],\n",
       "       [1135.002],\n",
       "       [ 640.44 ],\n",
       "       [1515.708],\n",
       "       [ 747.18 ],\n",
       "       [ 754.296],\n",
       "       [2134.8  ],\n",
       "       [1490.802],\n",
       "       [1231.068],\n",
       "       [ 370.032],\n",
       "       [ 772.086],\n",
       "       [1622.448],\n",
       "       [ 925.08 ],\n",
       "       [ 818.34 ],\n",
       "       [1384.062],\n",
       "       [ 540.816],\n",
       "       [2561.76 ],\n",
       "       [1992.48 ],\n",
       "       [1031.82 ],\n",
       "       [2063.64 ],\n",
       "       [2312.7  ],\n",
       "       [2383.86 ],\n",
       "       [2134.8  ],\n",
       "       [2134.8  ],\n",
       "       [1423.2  ],\n",
       "       [1739.862],\n",
       "       [1191.93 ],\n",
       "       [ 711.6  ],\n",
       "       [ 658.23 ],\n",
       "       [ 537.258],\n",
       "       [1515.708],\n",
       "       [1732.746],\n",
       "       [ 640.44 ],\n",
       "       [ 925.08 ],\n",
       "       [ 718.716],\n",
       "       [ 426.96 ],\n",
       "       [ 658.23 ],\n",
       "       [1501.476],\n",
       "       [1771.884],\n",
       "       [1167.024],\n",
       "       [1252.416],\n",
       "       [1697.166],\n",
       "       [1167.024],\n",
       "       [2184.612],\n",
       "       [2170.38 ],\n",
       "       [1857.276],\n",
       "       [1996.038],\n",
       "       [1359.156],\n",
       "       [1586.868],\n",
       "       [2312.7  ],\n",
       "       [2227.308],\n",
       "       [ 893.058],\n",
       "       [1440.99 ],\n",
       "       [1263.09 ],\n",
       "       [1099.422],\n",
       "       [3255.57 ],\n",
       "       [1540.614],\n",
       "       [1366.272],\n",
       "       [1152.792],\n",
       "       [1544.172],\n",
       "       [1910.646],\n",
       "       [ 718.716],\n",
       "       [1487.244],\n",
       "       [1312.902],\n",
       "       [1255.974],\n",
       "       [2255.772],\n",
       "       [2052.966],\n",
       "       [1188.372],\n",
       "       [ 604.86 ],\n",
       "       [ 889.5  ],\n",
       "       [1067.4  ],\n",
       "       [1138.56 ],\n",
       "       [ 925.08 ],\n",
       "       [ 711.6  ],\n",
       "       [ 925.08 ],\n",
       "       [ 925.08 ],\n",
       "       [ 523.026],\n",
       "       [1529.94 ],\n",
       "       [ 836.13 ],\n",
       "       [ 789.876],\n",
       "       [1885.74 ],\n",
       "       [2782.356],\n",
       "       [ 711.6  ],\n",
       "       [ 469.656],\n",
       "       [ 793.434],\n",
       "       [1565.52 ],\n",
       "       [1366.272],\n",
       "       [1914.204],\n",
       "       [1889.298],\n",
       "       [1956.9  ],\n",
       "       [1992.48 ],\n",
       "       [3187.968],\n",
       "       [ 925.08 ],\n",
       "       [1067.4  ],\n",
       "       [1352.04 ],\n",
       "       [2063.64 ],\n",
       "       [ 796.992],\n",
       "       [ 949.986],\n",
       "       [2910.444],\n",
       "       [3010.068],\n",
       "       [ 768.528],\n",
       "       [ 772.086],\n",
       "       [1423.2  ],\n",
       "       [1380.504],\n",
       "       [ 448.308],\n",
       "       [1971.132],\n",
       "       [2052.966],\n",
       "       [1127.886],\n",
       "       [3241.338],\n",
       "       [1892.856],\n",
       "       [2138.358],\n",
       "       [1423.2  ],\n",
       "       [1754.094],\n",
       "       [ 925.08 ],\n",
       "       [1352.04 ],\n",
       "       [ 889.5  ],\n",
       "       [ 640.44 ],\n",
       "       [1423.2  ],\n",
       "       [ 651.114],\n",
       "       [1391.178],\n",
       "       [1487.244],\n",
       "       [1700.724],\n",
       "       [1515.708],\n",
       "       [1206.162],\n",
       "       [2052.966],\n",
       "       [1298.67 ],\n",
       "       [1444.548],\n",
       "       [2067.198],\n",
       "       [1227.51 ],\n",
       "       [1494.36 ],\n",
       "       [1366.272],\n",
       "       [2298.468],\n",
       "       [ 925.08 ],\n",
       "       [3842.64 ],\n",
       "       [1889.298],\n",
       "       [2063.64 ],\n",
       "       [1544.172],\n",
       "       [1273.764],\n",
       "       [1579.752],\n",
       "       [1672.26 ],\n",
       "       [1227.51 ],\n",
       "       [1401.852],\n",
       "       [ 569.28 ],\n",
       "       [2173.938],\n",
       "       [2213.076],\n",
       "       [2063.64 ],\n",
       "       [1707.84 ],\n",
       "       [ 900.174],\n",
       "       [1465.896],\n",
       "       [1316.46 ],\n",
       "       [ 740.064],\n",
       "       [ 754.296],\n",
       "       [1647.354],\n",
       "       [ 811.224],\n",
       "       [1487.244],\n",
       "       [1494.36 ],\n",
       "       [2914.002],\n",
       "       [1665.144],\n",
       "       [1732.746],\n",
       "       [ 853.92 ],\n",
       "       [1885.74 ],\n",
       "       [ 889.5  ],\n",
       "       [2455.02 ],\n",
       "       [1067.4  ],\n",
       "       [1102.98 ],\n",
       "       [3024.3  ],\n",
       "       [1102.98 ],\n",
       "       [1725.63 ],\n",
       "       [ 985.566],\n",
       "       [1102.98 ],\n",
       "       [1885.74 ],\n",
       "       [2028.06 ],\n",
       "       [ 540.816],\n",
       "       [ 590.628],\n",
       "       [2170.38 ],\n",
       "       [1992.48 ],\n",
       "       [ 960.66 ],\n",
       "       [ 843.246],\n",
       "       [1889.298],\n",
       "       [1487.244],\n",
       "       [ 587.07 ],\n",
       "       [1384.062],\n",
       "       [ 818.34 ],\n",
       "       [ 711.6  ],\n",
       "       [1074.516],\n",
       "       [ 391.38 ],\n",
       "       [1889.298],\n",
       "       [1031.82 ],\n",
       "       [1921.32 ],\n",
       "       [1387.62 ],\n",
       "       [1352.04 ],\n",
       "       [1433.874],\n",
       "       [ 462.54 ],\n",
       "       [3775.038],\n",
       "       [ 996.24 ],\n",
       "       [ 441.192],\n",
       "       [1757.652],\n",
       "       [1974.69 ],\n",
       "       [ 711.6  ],\n",
       "       [1825.254],\n",
       "       [1814.58 ],\n",
       "       [1426.758],\n",
       "       [ 469.656],\n",
       "       [1149.234],\n",
       "       [2309.142],\n",
       "       [1102.98 ],\n",
       "       [ 782.76 ],\n",
       "       [1352.04 ],\n",
       "       [1494.36 ],\n",
       "       [1245.3  ],\n",
       "       [1529.94 ],\n",
       "       [1569.078],\n",
       "       [1352.04 ],\n",
       "       [2141.916],\n",
       "       [1565.52 ],\n",
       "       [1885.74 ],\n",
       "       [1761.21 ],\n",
       "       [1761.21 ],\n",
       "       [ 889.5  ],\n",
       "       [2668.5  ],\n",
       "       [1334.25 ],\n",
       "       [ 925.08 ],\n",
       "       [ 878.826],\n",
       "       [1067.4  ],\n",
       "       [1423.2  ],\n",
       "       [1419.642],\n",
       "       [ 711.6  ],\n",
       "       [ 718.716],\n",
       "       [1956.9  ],\n",
       "       [1544.172],\n",
       "       [2383.86 ],\n",
       "       [2081.43 ],\n",
       "       [ 711.6  ],\n",
       "       [ 700.926],\n",
       "       [1181.256],\n",
       "       [ 498.12 ],\n",
       "       [5856.468],\n",
       "       [1245.3  ],\n",
       "       [ 868.152],\n",
       "       [ 533.7  ],\n",
       "       [ 693.81 ],\n",
       "       [1576.194],\n",
       "       [5760.402],\n",
       "       [ 796.992],\n",
       "       [2052.966],\n",
       "       [1163.466],\n",
       "       [1316.46 ],\n",
       "       [1099.422],\n",
       "       [1480.128],\n",
       "       [2739.66 ],\n",
       "       [ 800.55 ],\n",
       "       [ 676.02 ],\n",
       "       [ 964.218],\n",
       "       [1832.37 ],\n",
       "       [ 782.76 ],\n",
       "       [1551.288],\n",
       "       [1102.98 ],\n",
       "       [ 989.124],\n",
       "       [ 711.6  ],\n",
       "       [1458.78 ],\n",
       "       [1359.156],\n",
       "       [2063.64 ],\n",
       "       [ 846.804],\n",
       "       [1458.78 ],\n",
       "       [1127.886],\n",
       "       [1355.598],\n",
       "       [1892.856],\n",
       "       [1031.82 ],\n",
       "       [1707.84 ],\n",
       "       [ 640.44 ],\n",
       "       [1014.03 ],\n",
       "       [1067.4  ],\n",
       "       [ 711.6  ],\n",
       "       [ 996.24 ],\n",
       "       [2134.8  ],\n",
       "       [1647.354],\n",
       "       [1138.56 ],\n",
       "       [ 889.5  ],\n",
       "       [ 711.6  ],\n",
       "       [1857.276],\n",
       "       [1102.98 ],\n",
       "       [ 925.08 ],\n",
       "       [2312.7  ],\n",
       "       [ 925.08 ],\n",
       "       [ 711.6  ],\n",
       "       [4198.44 ],\n",
       "       [3095.46 ],\n",
       "       [2590.224],\n",
       "       [1885.74 ],\n",
       "       [1245.3  ],\n",
       "       [1174.14 ],\n",
       "       [1458.78 ],\n",
       "       [1305.786],\n",
       "       [1316.46 ],\n",
       "       [1167.024],\n",
       "       [ 996.24 ],\n",
       "       [1099.422],\n",
       "       [2042.292],\n",
       "       [ 843.246],\n",
       "       [1889.298],\n",
       "       [1266.648],\n",
       "       [1707.84 ],\n",
       "       [1707.84 ],\n",
       "       [2846.4  ],\n",
       "       [1359.156],\n",
       "       [ 377.148],\n",
       "       [ 740.064],\n",
       "       [1707.84 ],\n",
       "       [1376.946]])"
      ]
     },
     "execution_count": 67,
     "metadata": {},
     "output_type": "execute_result"
    }
   ],
   "source": [
    "X"
   ]
  },
  {
   "cell_type": "code",
   "execution_count": 68,
   "metadata": {
    "collapsed": true
   },
   "outputs": [
    {
     "data": {
      "text/plain": [
       "array([[ 62000],\n",
       "       [ 78000],\n",
       "       [ 58000],\n",
       "       [ 45000],\n",
       "       [ 45000],\n",
       "       [148000],\n",
       "       [ 58000],\n",
       "       [ 48000],\n",
       "       [ 45000],\n",
       "       [ 65000],\n",
       "       [ 31000],\n",
       "       [ 29002],\n",
       "       [ 39000],\n",
       "       [ 48000],\n",
       "       [ 55000],\n",
       "       [100000],\n",
       "       [ 48000],\n",
       "       [ 25000],\n",
       "       [ 90000],\n",
       "       [ 33000],\n",
       "       [140000],\n",
       "       [100000],\n",
       "       [ 55000],\n",
       "       [105000],\n",
       "       [200000],\n",
       "       [ 98000],\n",
       "       [200000],\n",
       "       [145000],\n",
       "       [ 25000],\n",
       "       [ 24028],\n",
       "       [ 65000],\n",
       "       [ 85000],\n",
       "       [ 55000],\n",
       "       [ 57000],\n",
       "       [ 46000],\n",
       "       [ 52000],\n",
       "       [ 43500],\n",
       "       [ 60000],\n",
       "       [200000],\n",
       "       [ 36000],\n",
       "       [145000],\n",
       "       [ 48000],\n",
       "       [ 36000],\n",
       "       [ 65000],\n",
       "       [ 70000],\n",
       "       [ 50000],\n",
       "       [ 47999],\n",
       "       [ 80000],\n",
       "       [200000],\n",
       "       [ 24030],\n",
       "       [ 76000],\n",
       "       [ 70000],\n",
       "       [ 32500],\n",
       "       [ 30032],\n",
       "       [180000],\n",
       "       [ 80000],\n",
       "       [ 36000],\n",
       "       [ 36000],\n",
       "       [ 29032],\n",
       "       [ 43000],\n",
       "       [ 30000],\n",
       "       [ 32000],\n",
       "       [ 45000],\n",
       "       [ 49000],\n",
       "       [ 27500],\n",
       "       [ 23000],\n",
       "       [ 33500],\n",
       "       [ 26000],\n",
       "       [ 27500],\n",
       "       [ 50000],\n",
       "       [ 25000],\n",
       "       [ 41000],\n",
       "       [ 90000],\n",
       "       [ 26000],\n",
       "       [ 38000],\n",
       "       [ 75000],\n",
       "       [ 56000],\n",
       "       [ 40000],\n",
       "       [ 89900],\n",
       "       [ 37000],\n",
       "       [ 48800],\n",
       "       [ 39000],\n",
       "       [ 45000],\n",
       "       [ 50000],\n",
       "       [ 45000],\n",
       "       [ 46000],\n",
       "       [130000],\n",
       "       [ 60000],\n",
       "       [ 78000],\n",
       "       [ 70000],\n",
       "       [ 70000],\n",
       "       [ 70000],\n",
       "       [ 49800],\n",
       "       [ 79999],\n",
       "       [ 60000],\n",
       "       [ 57000],\n",
       "       [ 66000],\n",
       "       [ 75000],\n",
       "       [ 55000],\n",
       "       [ 70000],\n",
       "       [ 75000],\n",
       "       [ 60000],\n",
       "       [ 95000],\n",
       "       [150000],\n",
       "       [150000],\n",
       "       [ 98000],\n",
       "       [ 80000],\n",
       "       [ 33000],\n",
       "       [ 55000],\n",
       "       [ 80000],\n",
       "       [ 52000],\n",
       "       [ 52000],\n",
       "       [ 99999],\n",
       "       [ 65000],\n",
       "       [ 92000],\n",
       "       [ 55000],\n",
       "       [149999],\n",
       "       [ 35000],\n",
       "       [ 22000],\n",
       "       [ 33000],\n",
       "       [ 48000],\n",
       "       [ 53000],\n",
       "       [ 68000],\n",
       "       [ 80000],\n",
       "       [120000],\n",
       "       [ 57000],\n",
       "       [ 57000],\n",
       "       [100000],\n",
       "       [ 38000],\n",
       "       [ 27000],\n",
       "       [ 75000],\n",
       "       [ 55000],\n",
       "       [ 89000],\n",
       "       [ 40000],\n",
       "       [ 99999],\n",
       "       [ 48000],\n",
       "       [ 39000],\n",
       "       [ 75000],\n",
       "       [ 80000],\n",
       "       [ 86888],\n",
       "       [140000],\n",
       "       [ 58888],\n",
       "       [ 57000],\n",
       "       [ 41888],\n",
       "       [ 39000],\n",
       "       [ 29999],\n",
       "       [ 88000],\n",
       "       [225000],\n",
       "       [ 40999],\n",
       "       [ 55000],\n",
       "       [ 97999],\n",
       "       [ 77000],\n",
       "       [ 57000],\n",
       "       [ 52000],\n",
       "       [ 44999],\n",
       "       [ 32000],\n",
       "       [ 50000],\n",
       "       [ 59888],\n",
       "       [ 41000],\n",
       "       [ 45000],\n",
       "       [ 68000],\n",
       "       [ 43000],\n",
       "       [ 28000],\n",
       "       [180000],\n",
       "       [ 45000],\n",
       "       [ 88000],\n",
       "       [100000],\n",
       "       [100000],\n",
       "       [ 48000],\n",
       "       [ 35000],\n",
       "       [ 48000],\n",
       "       [ 80000],\n",
       "       [ 98000],\n",
       "       [120000],\n",
       "       [ 37000],\n",
       "       [ 82000],\n",
       "       [100000],\n",
       "       [ 35000],\n",
       "       [ 49800],\n",
       "       [ 33700],\n",
       "       [ 40000],\n",
       "       [ 45000],\n",
       "       [130000],\n",
       "       [ 45000],\n",
       "       [ 37000],\n",
       "       [ 36000],\n",
       "       [ 30000],\n",
       "       [ 42000],\n",
       "       [ 42000],\n",
       "       [ 67000],\n",
       "       [ 45000],\n",
       "       [ 38000],\n",
       "       [ 75000],\n",
       "       [ 55000],\n",
       "       [ 55000],\n",
       "       [ 85000],\n",
       "       [ 65000],\n",
       "       [ 29500],\n",
       "       [ 43000],\n",
       "       [ 33500],\n",
       "       [ 26000],\n",
       "       [ 65999],\n",
       "       [ 45000],\n",
       "       [ 23800],\n",
       "       [ 49999],\n",
       "       [ 58000],\n",
       "       [ 45000],\n",
       "       [ 36000],\n",
       "       [ 65000],\n",
       "       [ 65000],\n",
       "       [ 55000],\n",
       "       [ 35000],\n",
       "       [ 75000],\n",
       "       [ 43000],\n",
       "       [ 50000],\n",
       "       [ 45000],\n",
       "       [ 52000],\n",
       "       [120000],\n",
       "       [ 28000],\n",
       "       [110000],\n",
       "       [ 57000],\n",
       "       [ 55000],\n",
       "       [ 95000],\n",
       "       [ 25000],\n",
       "       [120000],\n",
       "       [ 45000],\n",
       "       [ 28000],\n",
       "       [ 45000],\n",
       "       [ 80000],\n",
       "       [ 55000],\n",
       "       [ 75000],\n",
       "       [ 75000],\n",
       "       [100000],\n",
       "       [ 75000],\n",
       "       [ 55000],\n",
       "       [ 36000],\n",
       "       [ 50000],\n",
       "       [ 50000],\n",
       "       [ 42000],\n",
       "       [ 68000],\n",
       "       [ 41999],\n",
       "       [ 60000],\n",
       "       [160000],\n",
       "       [ 57000],\n",
       "       [120000],\n",
       "       [ 50000],\n",
       "       [138888],\n",
       "       [ 48800],\n",
       "       [120000],\n",
       "       [ 43000],\n",
       "       [ 99990],\n",
       "       [ 60000],\n",
       "       [ 68000],\n",
       "       [ 55000],\n",
       "       [ 43000],\n",
       "       [ 34800],\n",
       "       [ 80000],\n",
       "       [ 45000],\n",
       "       [ 63000],\n",
       "       [ 49800],\n",
       "       [ 36000],\n",
       "       [ 36000],\n",
       "       [ 48000],\n",
       "       [ 43000],\n",
       "       [ 26000],\n",
       "       [ 37000],\n",
       "       [ 25000],\n",
       "       [ 36000],\n",
       "       [ 38000],\n",
       "       [ 60000],\n",
       "       [ 49999],\n",
       "       [ 77999],\n",
       "       [ 36000],\n",
       "       [ 17000],\n",
       "       [ 26000],\n",
       "       [ 36000],\n",
       "       [ 37000],\n",
       "       [ 90000],\n",
       "       [ 88000],\n",
       "       [ 43500],\n",
       "       [ 26000],\n",
       "       [ 55000],\n",
       "       [ 50000],\n",
       "       [ 45000],\n",
       "       [ 88000],\n",
       "       [ 50000],\n",
       "       [250000],\n",
       "       [ 88000],\n",
       "       [ 43000],\n",
       "       [ 88000],\n",
       "       [ 49800],\n",
       "       [ 26000],\n",
       "       [120000],\n",
       "       [ 45000],\n",
       "       [ 51999],\n",
       "       [ 65000],\n",
       "       [ 98000],\n",
       "       [ 98000],\n",
       "       [100000],\n",
       "       [206000],\n",
       "       [ 68000],\n",
       "       [ 55000],\n",
       "       [ 49800],\n",
       "       [ 77999],\n",
       "       [ 49999],\n",
       "       [ 44999],\n",
       "       [ 99999],\n",
       "       [ 58000],\n",
       "       [ 42000],\n",
       "       [ 35000],\n",
       "       [ 65000],\n",
       "       [ 37000],\n",
       "       [ 48800],\n",
       "       [ 39999],\n",
       "       [ 49999],\n",
       "       [ 55000],\n",
       "       [ 77999],\n",
       "       [ 74999],\n",
       "       [ 90000],\n",
       "       [ 63000],\n",
       "       [ 59500],\n",
       "       [ 45000],\n",
       "       [160000],\n",
       "       [ 73000],\n",
       "       [ 36000],\n",
       "       [ 65000],\n",
       "       [ 53000],\n",
       "       [170000],\n",
       "       [ 43000],\n",
       "       [ 55000],\n",
       "       [ 48800],\n",
       "       [ 80000],\n",
       "       [ 35000],\n",
       "       [160000],\n",
       "       [ 70000],\n",
       "       [ 40000],\n",
       "       [ 56000],\n",
       "       [ 40000],\n",
       "       [ 38000],\n",
       "       [ 68000],\n",
       "       [ 60000],\n",
       "       [ 32000],\n",
       "       [ 58000],\n",
       "       [ 59888],\n",
       "       [ 38888],\n",
       "       [ 24888],\n",
       "       [ 39000],\n",
       "       [130000],\n",
       "       [ 31999],\n",
       "       [ 42000],\n",
       "       [ 49800],\n",
       "       [ 29500],\n",
       "       [100000],\n",
       "       [ 55000],\n",
       "       [ 61000],\n",
       "       [ 85000],\n",
       "       [ 55000],\n",
       "       [ 70000],\n",
       "       [ 78000],\n",
       "       [ 98000],\n",
       "       [ 50000],\n",
       "       [ 65000],\n",
       "       [ 55000],\n",
       "       [ 39000],\n",
       "       [ 22000],\n",
       "       [ 19000],\n",
       "       [ 88000],\n",
       "       [ 65000],\n",
       "       [ 45000],\n",
       "       [ 31800],\n",
       "       [ 34800],\n",
       "       [ 13000],\n",
       "       [ 46000],\n",
       "       [ 52000],\n",
       "       [ 57000],\n",
       "       [ 38000],\n",
       "       [ 40000],\n",
       "       [ 75000],\n",
       "       [ 43000],\n",
       "       [ 63000],\n",
       "       [110000],\n",
       "       [ 65000],\n",
       "       [ 70000],\n",
       "       [ 45000],\n",
       "       [ 44000],\n",
       "       [ 70000],\n",
       "       [100000],\n",
       "       [ 38000],\n",
       "       [ 55000],\n",
       "       [ 37000],\n",
       "       [ 58500],\n",
       "       [120000],\n",
       "       [ 69000],\n",
       "       [ 41000],\n",
       "       [ 45000],\n",
       "       [ 98000],\n",
       "       [ 75000],\n",
       "       [ 35000],\n",
       "       [ 33700],\n",
       "       [ 41000],\n",
       "       [ 40000],\n",
       "       [ 80000],\n",
       "       [ 78000],\n",
       "       [ 36000],\n",
       "       [ 11900],\n",
       "       [ 29800],\n",
       "       [ 35000],\n",
       "       [ 33000],\n",
       "       [ 32000],\n",
       "       [ 42000],\n",
       "       [ 34500],\n",
       "       [ 32000],\n",
       "       [ 29000],\n",
       "       [ 58000],\n",
       "       [ 35000],\n",
       "       [ 42000],\n",
       "       [ 54999],\n",
       "       [123456],\n",
       "       [ 28000],\n",
       "       [ 34000],\n",
       "       [ 40000],\n",
       "       [ 45000],\n",
       "       [ 50000],\n",
       "       [ 88000],\n",
       "       [100000],\n",
       "       [ 85000],\n",
       "       [ 99888],\n",
       "       [168000],\n",
       "       [ 51000],\n",
       "       [ 31000],\n",
       "       [ 85000],\n",
       "       [110000],\n",
       "       [ 45000],\n",
       "       [ 43000],\n",
       "       [ 90000],\n",
       "       [185000],\n",
       "       [ 45000],\n",
       "       [ 28000],\n",
       "       [ 68000],\n",
       "       [ 42000],\n",
       "       [ 17000],\n",
       "       [ 53000],\n",
       "       [ 78000],\n",
       "       [150000],\n",
       "       [ 99999],\n",
       "       [119999],\n",
       "       [100000],\n",
       "       [ 45000],\n",
       "       [ 48000],\n",
       "       [ 36000],\n",
       "       [ 50000],\n",
       "       [ 24000],\n",
       "       [ 28000],\n",
       "       [ 39000],\n",
       "       [ 36000],\n",
       "       [ 50000],\n",
       "       [ 36000],\n",
       "       [ 55000],\n",
       "       [ 50000],\n",
       "       [ 57000],\n",
       "       [ 78000],\n",
       "       [ 59500],\n",
       "       [ 45000],\n",
       "       [100000],\n",
       "       [ 39000],\n",
       "       [ 36000],\n",
       "       [ 50000],\n",
       "       [135000],\n",
       "       [ 28000],\n",
       "       [200000],\n",
       "       [105000],\n",
       "       [ 98000],\n",
       "       [ 98000],\n",
       "       [ 57000],\n",
       "       [100000],\n",
       "       [ 45000],\n",
       "       [ 45000],\n",
       "       [ 60000],\n",
       "       [ 32000],\n",
       "       [ 60000],\n",
       "       [108000],\n",
       "       [100000],\n",
       "       [ 80000],\n",
       "       [ 88000],\n",
       "       [ 80000],\n",
       "       [ 45000],\n",
       "       [ 38800],\n",
       "       [ 35000],\n",
       "       [ 55000],\n",
       "       [ 43500],\n",
       "       [ 38000],\n",
       "       [150000],\n",
       "       [110000],\n",
       "       [ 48000],\n",
       "       [ 72000],\n",
       "       [ 42000],\n",
       "       [ 75000],\n",
       "       [ 49998],\n",
       "       [110000],\n",
       "       [ 50000],\n",
       "       [ 50000],\n",
       "       [158000],\n",
       "       [ 26000],\n",
       "       [ 45000],\n",
       "       [ 28000],\n",
       "       [ 35000],\n",
       "       [ 77000],\n",
       "       [ 89000],\n",
       "       [ 28500],\n",
       "       [ 45000],\n",
       "       [110000],\n",
       "       [ 70000],\n",
       "       [ 33000],\n",
       "       [ 51500],\n",
       "       [ 69500],\n",
       "       [ 36000],\n",
       "       [ 36000],\n",
       "       [ 50000],\n",
       "       [ 21000],\n",
       "       [ 42000],\n",
       "       [ 35000],\n",
       "       [ 25000],\n",
       "       [100000],\n",
       "       [ 40000],\n",
       "       [ 55000],\n",
       "       [ 40000],\n",
       "       [ 50000],\n",
       "       [ 47000],\n",
       "       [ 20000],\n",
       "       [150000],\n",
       "       [ 28000],\n",
       "       [ 40000],\n",
       "       [ 65000],\n",
       "       [ 70000],\n",
       "       [ 43000],\n",
       "       [ 60000],\n",
       "       [ 85000],\n",
       "       [ 48120],\n",
       "       [ 35000],\n",
       "       [ 50000],\n",
       "       [138000],\n",
       "       [ 31000],\n",
       "       [ 30000],\n",
       "       [ 48000],\n",
       "       [ 60000],\n",
       "       [ 40000],\n",
       "       [ 45000],\n",
       "       [ 58000],\n",
       "       [ 30000],\n",
       "       [ 77000],\n",
       "       [ 80000],\n",
       "       [ 55000],\n",
       "       [ 45000],\n",
       "       [ 45000],\n",
       "       [ 30500],\n",
       "       [138888],\n",
       "       [ 38000],\n",
       "       [ 36000],\n",
       "       [ 47999],\n",
       "       [ 35000],\n",
       "       [ 38000],\n",
       "       [ 45000],\n",
       "       [ 22000],\n",
       "       [ 35000],\n",
       "       [ 90000],\n",
       "       [ 98000],\n",
       "       [ 60000],\n",
       "       [ 68000],\n",
       "       [ 17000],\n",
       "       [ 40000],\n",
       "       [ 52000],\n",
       "       [ 40000],\n",
       "       [180000],\n",
       "       [ 23000],\n",
       "       [ 26000],\n",
       "       [ 28800],\n",
       "       [ 33000],\n",
       "       [ 44000],\n",
       "       [170000],\n",
       "       [ 45000],\n",
       "       [ 78000],\n",
       "       [ 38000],\n",
       "       [ 45000],\n",
       "       [ 38800],\n",
       "       [ 99999],\n",
       "       [150000],\n",
       "       [ 43000],\n",
       "       [ 45000],\n",
       "       [ 32000],\n",
       "       [ 69000],\n",
       "       [ 31000],\n",
       "       [ 59800],\n",
       "       [ 31000],\n",
       "       [ 42000],\n",
       "       [ 27000],\n",
       "       [ 36000],\n",
       "       [ 45000],\n",
       "       [ 60000],\n",
       "       [ 29000],\n",
       "       [ 60000],\n",
       "       [ 26000],\n",
       "       [ 69999],\n",
       "       [129999],\n",
       "       [ 21000],\n",
       "       [ 50000],\n",
       "       [ 45000],\n",
       "       [ 36000],\n",
       "       [ 43000],\n",
       "       [ 30000],\n",
       "       [  6100],\n",
       "       [ 98000],\n",
       "       [ 55000],\n",
       "       [ 42000],\n",
       "       [ 43000],\n",
       "       [ 36000],\n",
       "       [ 45000],\n",
       "       [ 65000],\n",
       "       [ 32000],\n",
       "       [ 99999],\n",
       "       [ 45000],\n",
       "       [ 12000],\n",
       "       [180000],\n",
       "       [100000],\n",
       "       [110000],\n",
       "       [120000],\n",
       "       [ 55000],\n",
       "       [ 41000],\n",
       "       [ 75000],\n",
       "       [ 42000],\n",
       "       [ 45000],\n",
       "       [ 38000],\n",
       "       [ 28000],\n",
       "       [ 57777],\n",
       "       [ 82000],\n",
       "       [ 53000],\n",
       "       [ 70000],\n",
       "       [ 40000],\n",
       "       [ 60000],\n",
       "       [ 80000],\n",
       "       [138888],\n",
       "       [ 45000],\n",
       "       [ 24800],\n",
       "       [ 45000],\n",
       "       [ 65000],\n",
       "       [ 36000]], dtype=int64)"
      ]
     },
     "execution_count": 68,
     "metadata": {},
     "output_type": "execute_result"
    }
   ],
   "source": [
    "y"
   ]
  },
  {
   "cell_type": "code",
   "execution_count": 69,
   "metadata": {},
   "outputs": [],
   "source": [
    "X_train, X_test, y_train, y_test = train_test_split(X, y, test_size = 0.25, random_state=0)"
   ]
  },
  {
   "cell_type": "code",
   "execution_count": 70,
   "metadata": {},
   "outputs": [
    {
     "data": {
      "text/plain": [
       "LinearRegression(copy_X=True, fit_intercept=True, n_jobs=None, normalize=False)"
      ]
     },
     "execution_count": 70,
     "metadata": {},
     "output_type": "execute_result"
    }
   ],
   "source": [
    "lin_reg = LinearRegression()\n",
    "lin_reg.fit(X, y)"
   ]
  },
  {
   "cell_type": "code",
   "execution_count": 71,
   "metadata": {},
   "outputs": [
    {
     "data": {
      "image/png": "[encoded data removed]",
      "text/plain": [
       "<Figure size 432x288 with 1 Axes>"
      ]
     },
     "metadata": {
      "needs_background": "light"
     },
     "output_type": "display_data"
    }
   ],
   "source": [
    "plt.scatter (X, y, color ='red')\n",
    "plt.plot (X, lin_reg.predict(X), color= 'green')\n",
    "plt.title (\"House Price as per House Area\")\n",
    "plt.xlabel ('House Area in Sqft')\n",
    "plt.ylabel ('House Price')\n",
    "plt.show()"
   ]
  },
  {
   "cell_type": "code",
   "execution_count": 73,
   "metadata": {},
   "outputs": [],
   "source": [
    "X = house1.loc[:,'Bedroom'].values.reshape(-1,1) \n",
    "y = house1.loc[:, 'Price'].values.reshape(-1,1)"
   ]
  },
  {
   "cell_type": "code",
   "execution_count": 74,
   "metadata": {},
   "outputs": [],
   "source": [
    "X_train, X_test, y_train, y_test = train_test_split(X, y, test_size = 0.25, random_state=0)"
   ]
  },
  {
   "cell_type": "code",
   "execution_count": 75,
   "metadata": {},
   "outputs": [
    {
     "data": {
      "text/plain": [
       "LinearRegression(copy_X=True, fit_intercept=True, n_jobs=None, normalize=False)"
      ]
     },
     "execution_count": 75,
     "metadata": {},
     "output_type": "execute_result"
    }
   ],
   "source": [
    "lin_reg = LinearRegression()\n",
    "lin_reg.fit(X, y)"
   ]
  },
  {
   "cell_type": "code",
   "execution_count": 76,
   "metadata": {},
   "outputs": [
    {
     "data": {
      "image/png": "[encoded data removed]",
      "text/plain": [
       "<Figure size 432x288 with 1 Axes>"
      ]
     },
     "metadata": {
      "needs_background": "light"
     },
     "output_type": "display_data"
    }
   ],
   "source": [
    "plt.scatter (X, y, color ='green')\n",
    "plt.plot (X, lin_reg.predict(X), color= 'red')\n",
    "plt.title (\"House Price as per Bedroom\")\n",
    "plt.xlabel ('Bedroom in House')\n",
    "plt.ylabel ('House Price')\n",
    "plt.show()"
   ]
  },
  {
   "cell_type": "code",
   "execution_count": 77,
   "metadata": {},
   "outputs": [],
   "source": [
    "X = house1.loc[:,'Floor'].values.reshape(-1,1) \n",
    "y = house1.loc[:, 'Price'].values.reshape(-1,1)"
   ]
  },
  {
   "cell_type": "code",
   "execution_count": 78,
   "metadata": {},
   "outputs": [],
   "source": [
    "X_train, X_test, y_train, y_test = train_test_split(X, y, test_size = 0.25, random_state=0)"
   ]
  },
  {
   "cell_type": "code",
   "execution_count": 79,
   "metadata": {},
   "outputs": [
    {
     "data": {
      "text/plain": [
       "LinearRegression(copy_X=True, fit_intercept=True, n_jobs=None, normalize=False)"
      ]
     },
     "execution_count": 79,
     "metadata": {},
     "output_type": "execute_result"
    }
   ],
   "source": [
    "lin_reg = LinearRegression()\n",
    "lin_reg.fit(X, y)"
   ]
  },
  {
   "cell_type": "code",
   "execution_count": 80,
   "metadata": {},
   "outputs": [
    {
     "data": {
      "image/png": "[encoded data removed]",
      "text/plain": [
       "<Figure size 432x288 with 1 Axes>"
      ]
     },
     "metadata": {
      "needs_background": "light"
     },
     "output_type": "display_data"
    }
   ],
   "source": [
    "plt.scatter (X, y, color ='blue')\n",
    "plt.plot (X, lin_reg.predict(X), color= 'red')\n",
    "plt.title (\"House Price as per Floor\")\n",
    "plt.xlabel ('Floor in House')\n",
    "plt.ylabel ('House Price')\n",
    "plt.show()"
   ]
  },
  {
   "cell_type": "code",
   "execution_count": 81,
   "metadata": {},
   "outputs": [],
   "source": [
    "from sklearn.preprocessing import PolynomialFeatures"
   ]
  },
  {
   "cell_type": "code",
   "execution_count": 82,
   "metadata": {},
   "outputs": [],
   "source": [
    "poly_reg = PolynomialFeatures (degree = 5)\n",
    "x_poly = poly_reg.fit_transform(X)"
   ]
  },
  {
   "cell_type": "code",
   "execution_count": 83,
   "metadata": {},
   "outputs": [
    {
     "data": {
      "text/plain": [
       "LinearRegression(copy_X=True, fit_intercept=True, n_jobs=None, normalize=False)"
      ]
     },
     "execution_count": 83,
     "metadata": {},
     "output_type": "execute_result"
    }
   ],
   "source": [
    "pol_reg = LinearRegression()\n",
    "pol_reg.fit (x_poly, y)"
   ]
  },
  {
   "cell_type": "code",
   "execution_count": 84,
   "metadata": {
    "scrolled": true
   },
   "outputs": [
    {
     "data": {
      "image/png": "[encoded data removed]",
      "text/plain": [
       "<Figure size 432x288 with 1 Axes>"
      ]
     },
     "metadata": {
      "needs_background": "light"
     },
     "output_type": "display_data"
    }
   ],
   "source": [
    "plt.scatter(X, y, color='green')\n",
    "plt.plot(X, pol_reg.predict(poly_reg.fit_transform(X)), color='blue')\n",
    "plt.title (\"House Price as per Floor\")\n",
    "plt.xlabel ('Floor in House')\n",
    "plt.ylabel ('House Price')\n",
    "plt.show()"
   ]
  },
  {
   "cell_type": "code",
   "execution_count": 86,
   "metadata": {},
   "outputs": [
    {
     "data": {
      "text/plain": [
       "array([[104745.56635246]])"
      ]
     },
     "execution_count": 86,
     "metadata": {},
     "output_type": "execute_result"
    }
   ],
   "source": [
    "lin_reg.predict([[25]])"
   ]
  },
  {
   "cell_type": "code",
   "execution_count": 87,
   "metadata": {},
   "outputs": [
    {
     "data": {
      "text/plain": [
       "array([[-470684.76354007]])"
      ]
     },
     "execution_count": 87,
     "metadata": {},
     "output_type": "execute_result"
    }
   ],
   "source": [
    "pol_reg.predict(poly_reg.fit_transform([[25]]))"
   ]
  },
  {
   "cell_type": "code",
   "execution_count": null,
   "metadata": {},
   "outputs": [],
   "source": [
    "#so with the data used in X & y, can't find any essence of polynomial regression"
   ]
  },
  {
   "cell_type": "code",
   "execution_count": null,
   "metadata": {},
   "outputs": [],
   "source": [
    "#Ridge Regression"
   ]
  },
  {
   "cell_type": "code",
   "execution_count": 89,
   "metadata": {},
   "outputs": [
    {
     "data": {
      "text/html": [
       "<div>\n",
       "<style scoped>\n",
       "    .dataframe tbody tr th:only-of-type {\n",
       "        vertical-align: middle;\n",
       "    }\n",
       "\n",
       "    .dataframe tbody tr th {\n",
       "        vertical-align: top;\n",
       "    }\n",
       "\n",
       "    .dataframe thead th {\n",
       "        text-align: right;\n",
       "    }\n",
       "</style>\n",
       "<table border=\"1\" class=\"dataframe\">\n",
       "  <thead>\n",
       "    <tr style=\"text-align: right;\">\n",
       "      <th></th>\n",
       "      <th>Sqft</th>\n",
       "      <th>Floor</th>\n",
       "      <th>TotalFloor</th>\n",
       "      <th>Bedroom</th>\n",
       "      <th>Living.Room</th>\n",
       "      <th>Bathroom</th>\n",
       "    </tr>\n",
       "  </thead>\n",
       "  <tbody>\n",
       "    <tr>\n",
       "      <th>0</th>\n",
       "      <td>1177.698</td>\n",
       "      <td>2</td>\n",
       "      <td>7</td>\n",
       "      <td>2</td>\n",
       "      <td>2</td>\n",
       "      <td>2</td>\n",
       "    </tr>\n",
       "    <tr>\n",
       "      <th>1</th>\n",
       "      <td>2134.800</td>\n",
       "      <td>5</td>\n",
       "      <td>7</td>\n",
       "      <td>4</td>\n",
       "      <td>2</td>\n",
       "      <td>2</td>\n",
       "    </tr>\n",
       "    <tr>\n",
       "      <th>2</th>\n",
       "      <td>1138.560</td>\n",
       "      <td>5</td>\n",
       "      <td>7</td>\n",
       "      <td>2</td>\n",
       "      <td>2</td>\n",
       "      <td>1</td>\n",
       "    </tr>\n",
       "  </tbody>\n",
       "</table>\n",
       "</div>"
      ],
      "text/plain": [
       "       Sqft  Floor  TotalFloor  Bedroom  Living.Room  Bathroom\n",
       "0  1177.698      2           7        2            2         2\n",
       "1  2134.800      5           7        4            2         2\n",
       "2  1138.560      5           7        2            2         1"
      ]
     },
     "execution_count": 89,
     "metadata": {},
     "output_type": "execute_result"
    }
   ],
   "source": [
    "X_new = house1.drop(['Price'], axis=1)\n",
    "Y_new = house1['Price']\n",
    "X_new.head(3)"
   ]
  },
  {
   "cell_type": "code",
   "execution_count": 91,
   "metadata": {
    "scrolled": true
   },
   "outputs": [
    {
     "data": {
      "text/plain": [
       "0    62000\n",
       "1    78000\n",
       "2    58000\n",
       "Name: Price, dtype: int64"
      ]
     },
     "execution_count": 91,
     "metadata": {},
     "output_type": "execute_result"
    }
   ],
   "source": [
    "Y_new.head(3)"
   ]
  },
  {
   "cell_type": "code",
   "execution_count": 92,
   "metadata": {},
   "outputs": [
    {
     "name": "stdout",
     "output_type": "stream",
     "text": [
      "194 451\n"
     ]
    }
   ],
   "source": [
    "X_train,X_test,y_train,y_test=train_test_split(X_new,Y_new,test_size=0.3,random_state=3)\n",
    "print(len(X_test), len(X_train))"
   ]
  },
  {
   "cell_type": "code",
   "execution_count": 93,
   "metadata": {},
   "outputs": [
    {
     "data": {
      "text/plain": [
       "LinearRegression(copy_X=True, fit_intercept=True, n_jobs=None, normalize=False)"
      ]
     },
     "execution_count": 93,
     "metadata": {},
     "output_type": "execute_result"
    }
   ],
   "source": [
    "lr1 = LinearRegression()\n",
    "lr1.fit(X_train, y_train)"
   ]
  },
  {
   "cell_type": "code",
   "execution_count": 94,
   "metadata": {},
   "outputs": [],
   "source": [
    "train_score=lr1.score(X_train, y_train)\n",
    "test_score=lr1.score(X_test, y_test)"
   ]
  },
  {
   "cell_type": "code",
   "execution_count": 95,
   "metadata": {},
   "outputs": [
    {
     "name": "stdout",
     "output_type": "stream",
     "text": [
      "Linear Regression TRAIN Score: 0.7024056470662652\n",
      "Linear Regression TEST Score: 0.692784521172055\n"
     ]
    }
   ],
   "source": [
    "print (\"Linear Regression TRAIN Score:\", train_score)\n",
    "print (\"Linear Regression TEST Score:\", test_score)"
   ]
  },
  {
   "cell_type": "code",
   "execution_count": 97,
   "metadata": {},
   "outputs": [],
   "source": [
    "from sklearn.linear_model import Ridge"
   ]
  },
  {
   "cell_type": "code",
   "execution_count": 98,
   "metadata": {},
   "outputs": [
    {
     "data": {
      "text/plain": [
       "Ridge(alpha=0.01, copy_X=True, fit_intercept=True, max_iter=None,\n",
       "      normalize=False, random_state=None, solver='auto', tol=0.001)"
      ]
     },
     "execution_count": 98,
     "metadata": {},
     "output_type": "execute_result"
    }
   ],
   "source": [
    "rr_new = Ridge(alpha=0.01)\n",
    "rr_new.fit(X_train, y_train)"
   ]
  },
  {
   "cell_type": "code",
   "execution_count": 100,
   "metadata": {},
   "outputs": [],
   "source": [
    "Ridge_train_score_new = rr_new.score(X_train,y_train)\n",
    "Ridge_test_score_new = rr_new.score(X_test, y_test)"
   ]
  },
  {
   "cell_type": "code",
   "execution_count": 101,
   "metadata": {},
   "outputs": [
    {
     "name": "stdout",
     "output_type": "stream",
     "text": [
      "Ridge Regression TRAIN Score Low ALPHA: 0.7024056470108636\n",
      "Ridge Regression TEST Score Low ALPHA: 0.6927844443967557\n"
     ]
    }
   ],
   "source": [
    "print(\"Ridge Regression TRAIN Score Low ALPHA:\", Ridge_train_score_new)\n",
    "print (\"Ridge Regression TEST Score Low ALPHA:\", Ridge_test_score_new)"
   ]
  },
  {
   "cell_type": "code",
   "execution_count": 102,
   "metadata": {},
   "outputs": [
    {
     "data": {
      "text/plain": [
       "Ridge(alpha=100, copy_X=True, fit_intercept=True, max_iter=None,\n",
       "      normalize=False, random_state=None, solver='auto', tol=0.001)"
      ]
     },
     "execution_count": 102,
     "metadata": {},
     "output_type": "execute_result"
    }
   ],
   "source": [
    "rr_new100 = Ridge(alpha=100) #  comparison with alpha value\n",
    "rr_new100.fit(X_train, y_train)"
   ]
  },
  {
   "cell_type": "code",
   "execution_count": 103,
   "metadata": {},
   "outputs": [],
   "source": [
    "Ridge_train_score_new100 = rr_new100.score(X_train,y_train)\n",
    "Ridge_test_score_new100 = rr_new100.score(X_test, y_test)"
   ]
  },
  {
   "cell_type": "code",
   "execution_count": 104,
   "metadata": {},
   "outputs": [
    {
     "name": "stdout",
     "output_type": "stream",
     "text": [
      "Ridge Regression TRAIN Score High ALPHA: 0.7016823587127615\n",
      "Ridge Regression TEST Score High ALPHA: 0.6916894437098157\n"
     ]
    }
   ],
   "source": [
    "print(\"Ridge Regression TRAIN Score High ALPHA:\", Ridge_train_score_new100)\n",
    "print (\"Ridge Regression TEST Score High ALPHA:\", Ridge_test_score_new100)"
   ]
  },
  {
   "cell_type": "code",
   "execution_count": 105,
   "metadata": {
    "scrolled": false
   },
   "outputs": [
    {
     "data": {
      "image/png": "[encoded data removed]",
      "text/plain": [
       "<Figure size 432x288 with 1 Axes>"
      ]
     },
     "metadata": {
      "needs_background": "light"
     },
     "output_type": "display_data"
    }
   ],
   "source": [
    "plt.plot(rr_new.coef_,alpha=0.7,linestyle='none',marker='*',markersize=5,color='red',label=r'Ridge; $\\alpha = 0.01$',zorder=7) # zorder for ordering the markers\n",
    "plt.plot(rr_new100.coef_,alpha=0.5,linestyle='none',marker='d',markersize=6,color='blue',label=r'Ridge; $\\alpha = 100$') # alpha here is for transparency\n",
    "plt.plot(lr1.coef_,alpha=0.4,linestyle='none',marker='o',markersize=7,color='green',label='Linear Regression')\n",
    "plt.xlabel('Coefficient Index',fontsize=16)\n",
    "plt.ylabel('Coefficient Magnitude',fontsize=16)\n",
    "plt.legend(fontsize=13,loc=4)\n",
    "plt.show()"
   ]
  },
  {
   "cell_type": "code",
   "execution_count": 106,
   "metadata": {},
   "outputs": [
    {
     "data": {
      "text/plain": [
       "Ridge(alpha=10, copy_X=True, fit_intercept=True, max_iter=None, normalize=False,\n",
       "      random_state=None, solver='auto', tol=0.001)"
      ]
     },
     "execution_count": 106,
     "metadata": {},
     "output_type": "execute_result"
    }
   ],
   "source": [
    "rr_new10 = Ridge(alpha=10)\n",
    "rr_new10.fit(X_train, y_train)"
   ]
  },
  {
   "cell_type": "code",
   "execution_count": 107,
   "metadata": {},
   "outputs": [
    {
     "name": "stdout",
     "output_type": "stream",
     "text": [
      "Ridge Regression TRAIN Score Low ALPHA: 0.7023658844725391\n",
      "Ridge Regression TEST Score Low ALPHA: 0.6926725161486511\n"
     ]
    }
   ],
   "source": [
    "Ridge_train_score_new10 = rr_new10.score(X_train,y_train)\n",
    "Ridge_test_score_new10 = rr_new10.score(X_test, y_test)\n",
    "print(\"Ridge Regression TRAIN Score Low ALPHA:\", Ridge_train_score_new10)\n",
    "print (\"Ridge Regression TEST Score Low ALPHA:\", Ridge_test_score_new10)"
   ]
  },
  {
   "cell_type": "code",
   "execution_count": 108,
   "metadata": {},
   "outputs": [
    {
     "data": {
      "text/plain": [
       "Ridge(alpha=500, copy_X=True, fit_intercept=True, max_iter=None,\n",
       "      normalize=False, random_state=None, solver='auto', tol=0.001)"
      ]
     },
     "execution_count": 108,
     "metadata": {},
     "output_type": "execute_result"
    }
   ],
   "source": [
    "rr_new500 = Ridge(alpha=500) #  comparison with alpha value\n",
    "rr_new500.fit(X_train, y_train)"
   ]
  },
  {
   "cell_type": "code",
   "execution_count": 109,
   "metadata": {},
   "outputs": [
    {
     "name": "stdout",
     "output_type": "stream",
     "text": [
      "Ridge Regression TRAIN Score High ALPHA: 0.7008229249834381\n",
      "Ridge Regression TEST Score High ALPHA: 0.6913829761355844\n"
     ]
    }
   ],
   "source": [
    "Ridge_train_score_new500 = rr_new500.score(X_train,y_train)\n",
    "Ridge_test_score_new500 = rr_new500.score(X_test, y_test)\n",
    "print(\"Ridge Regression TRAIN Score High ALPHA:\", Ridge_train_score_new500)\n",
    "print (\"Ridge Regression TEST Score High ALPHA:\", Ridge_test_score_new500)"
   ]
  },
  {
   "cell_type": "code",
   "execution_count": 112,
   "metadata": {},
   "outputs": [
    {
     "data": {
      "image/png": "[encoded data removed]",
      "text/plain": [
       "<Figure size 432x288 with 1 Axes>"
      ]
     },
     "metadata": {
      "needs_background": "light"
     },
     "output_type": "display_data"
    }
   ],
   "source": [
    "plt.plot(rr_new10.coef_,alpha=0.10,linestyle='none',marker='*',markersize=5,color='green',label=r'Ridge; $\\alpha = 0.01$',zorder=7) # zorder for ordering the markers\n",
    "plt.plot(rr_new500.coef_,alpha=0.8,linestyle='none',marker='d',markersize=6,color='blue',label=r'Ridge; $\\alpha = 100$') # alpha here is for transparency\n",
    "plt.plot(lr1.coef_,alpha=0.6,linestyle='none',marker='o',markersize=7,color='red',label='Linear Regression')\n",
    "plt.xlabel('Coefficient Index',fontsize=20)\n",
    "plt.ylabel('Coefficient Magnitude',fontsize=20)\n",
    "plt.legend(fontsize=12,loc=2)\n",
    "plt.show()"
   ]
  },
  {
   "cell_type": "code",
   "execution_count": 113,
   "metadata": {
    "scrolled": true
   },
   "outputs": [
    {
     "data": {
      "image/png": "[encoded data removed]",
      "text/plain": [
       "<Figure size 432x288 with 1 Axes>"
      ]
     },
     "metadata": {
      "needs_background": "light"
     },
     "output_type": "display_data"
    }
   ],
   "source": [
    "plt.plot(rr_new10.coef_,alpha=0.20,linestyle='none',marker='*',markersize=5,color='green',label=r'Ridge; $\\alpha = 0.01$',zorder=7) # zorder for ordering the markers\n",
    "plt.plot(rr_new500.coef_,alpha=0.15,linestyle='none',marker='d',markersize=6,color='blue',label=r'Ridge; $\\alpha = 100$') # alpha here is for transparency\n",
    "plt.plot(lr1.coef_,alpha=0.12,linestyle='none',marker='o',markersize=7,color='red',label='Linear Regression')\n",
    "plt.xlabel('Coefficient Index',fontsize=20)\n",
    "plt.ylabel('Coefficient Magnitude',fontsize=20)\n",
    "plt.legend(fontsize=12,loc=2)\n",
    "plt.show()"
   ]
  },
  {
   "cell_type": "code",
   "execution_count": 114,
   "metadata": {},
   "outputs": [
    {
     "data": {
      "image/png": "[encoded data removed]",
      "text/plain": [
       "<Figure size 432x288 with 1 Axes>"
      ]
     },
     "metadata": {
      "needs_background": "light"
     },
     "output_type": "display_data"
    }
   ],
   "source": [
    "plt.plot(rr_new10.coef_,alpha=0.20,linestyle='none',marker='*',markersize=5,color='black',label=r'Ridge; $\\alpha = 0.01$',zorder=7) # zorder for ordering the markers\n",
    "plt.plot(rr_new500.coef_,alpha=0.15,linestyle='none',marker='d',markersize=6,color='blue',label=r'Ridge; $\\alpha = 100$') # alpha here is for transparency\n",
    "plt.plot(lr1.coef_,alpha=0.12,linestyle='none',marker='o',markersize=7,color='red',label='Linear Regression')\n",
    "plt.xlabel('Coefficient Index',fontsize=20)\n",
    "plt.ylabel('Coefficient Magnitude',fontsize=20)\n",
    "plt.legend(fontsize=12,loc=2)\n",
    "plt.show()"
   ]
  },
  {
   "cell_type": "code",
   "execution_count": null,
   "metadata": {},
   "outputs": [],
   "source": [
    "#LASSO - least absolute shrinkage and selection operator"
   ]
  },
  {
   "cell_type": "code",
   "execution_count": 115,
   "metadata": {},
   "outputs": [],
   "source": [
    "from sklearn.linear_model import Lasso"
   ]
  },
  {
   "cell_type": "code",
   "execution_count": 121,
   "metadata": {},
   "outputs": [
    {
     "data": {
      "text/html": [
       "<div>\n",
       "<style scoped>\n",
       "    .dataframe tbody tr th:only-of-type {\n",
       "        vertical-align: middle;\n",
       "    }\n",
       "\n",
       "    .dataframe tbody tr th {\n",
       "        vertical-align: top;\n",
       "    }\n",
       "\n",
       "    .dataframe thead th {\n",
       "        text-align: right;\n",
       "    }\n",
       "</style>\n",
       "<table border=\"1\" class=\"dataframe\">\n",
       "  <thead>\n",
       "    <tr style=\"text-align: right;\">\n",
       "      <th></th>\n",
       "      <th>Sqft</th>\n",
       "      <th>Floor</th>\n",
       "      <th>TotalFloor</th>\n",
       "      <th>Bedroom</th>\n",
       "      <th>Living.Room</th>\n",
       "      <th>Bathroom</th>\n",
       "    </tr>\n",
       "  </thead>\n",
       "  <tbody>\n",
       "    <tr>\n",
       "      <th>0</th>\n",
       "      <td>1177.698</td>\n",
       "      <td>2</td>\n",
       "      <td>7</td>\n",
       "      <td>2</td>\n",
       "      <td>2</td>\n",
       "      <td>2</td>\n",
       "    </tr>\n",
       "    <tr>\n",
       "      <th>1</th>\n",
       "      <td>2134.800</td>\n",
       "      <td>5</td>\n",
       "      <td>7</td>\n",
       "      <td>4</td>\n",
       "      <td>2</td>\n",
       "      <td>2</td>\n",
       "    </tr>\n",
       "    <tr>\n",
       "      <th>2</th>\n",
       "      <td>1138.560</td>\n",
       "      <td>5</td>\n",
       "      <td>7</td>\n",
       "      <td>2</td>\n",
       "      <td>2</td>\n",
       "      <td>1</td>\n",
       "    </tr>\n",
       "  </tbody>\n",
       "</table>\n",
       "</div>"
      ],
      "text/plain": [
       "       Sqft  Floor  TotalFloor  Bedroom  Living.Room  Bathroom\n",
       "0  1177.698      2           7        2            2         2\n",
       "1  2134.800      5           7        4            2         2\n",
       "2  1138.560      5           7        2            2         1"
      ]
     },
     "execution_count": 121,
     "metadata": {},
     "output_type": "execute_result"
    }
   ],
   "source": [
    "X_l = house1.drop(['Price'], axis=1)\n",
    "Y = house1['Price'].values.reshape(-1,1)\n",
    "X_l.head(3)"
   ]
  },
  {
   "cell_type": "code",
   "execution_count": 122,
   "metadata": {},
   "outputs": [],
   "source": [
    "X_train,X_test,y_train,y_test=train_test_split(X_l,Y, test_size=0.2, random_state=31)"
   ]
  },
  {
   "cell_type": "code",
   "execution_count": 125,
   "metadata": {},
   "outputs": [],
   "source": [
    "lasso = Lasso()\n",
    "lasso.fit(X_train,y_train)\n",
    "train_score_l=lasso.score(X_train,y_train)\n",
    "test_score_l=lasso.score(X_test,y_test)\n",
    "coeff_used_l = np.sum(lasso.coef_!=0)"
   ]
  },
  {
   "cell_type": "code",
   "execution_count": 126,
   "metadata": {},
   "outputs": [
    {
     "name": "stdout",
     "output_type": "stream",
     "text": [
      "Train score: 0.7261798165891236\n",
      "Test score:  0.491525203919849\n",
      "Number of FEATURES used:  6\n"
     ]
    }
   ],
   "source": [
    "print (\"Train score:\", train_score_l) \n",
    "print (\"Test score: \", test_score_l)\n",
    "print (\"Number of FEATURES used: \", coeff_used_l)"
   ]
  },
  {
   "cell_type": "code",
   "execution_count": 128,
   "metadata": {},
   "outputs": [
    {
     "data": {
      "text/plain": [
       "Lasso(alpha=0.01, copy_X=True, fit_intercept=True, max_iter=1000000.0,\n",
       "      normalize=False, positive=False, precompute=False, random_state=None,\n",
       "      selection='cyclic', tol=0.0001, warm_start=False)"
      ]
     },
     "execution_count": 128,
     "metadata": {},
     "output_type": "execute_result"
    }
   ],
   "source": [
    "lasso_l = Lasso(alpha=0.01, max_iter=10e5)\n",
    "lasso_l.fit(X_train,y_train)"
   ]
  },
  {
   "cell_type": "code",
   "execution_count": 129,
   "metadata": {},
   "outputs": [],
   "source": [
    "train_score_nl=lasso_l.score(X_train,y_train)\n",
    "test_score_nl=lasso_l.score(X_test,y_test)\n",
    "coeff_used_nl = np.sum(lasso_l.coef_!=0)   "
   ]
  },
  {
   "cell_type": "code",
   "execution_count": 130,
   "metadata": {},
   "outputs": [
    {
     "name": "stdout",
     "output_type": "stream",
     "text": [
      "Train Score for ALPHA =0.01: 0.7261798299595337\n",
      "Test Score for ALPHA =0.01:  0.4915326030401762\n",
      "Number of FEATURES used: for ALPHA =0.01: 6\n"
     ]
    }
   ],
   "source": [
    "print (\"Train Score for ALPHA =0.01:\", train_score_nl) \n",
    "print (\"Test Score for ALPHA =0.01: \", test_score_nl)\n",
    "print (\"Number of FEATURES used: for ALPHA =0.01:\", coeff_used_nl)"
   ]
  },
  {
   "cell_type": "code",
   "execution_count": 132,
   "metadata": {},
   "outputs": [
    {
     "data": {
      "text/plain": [
       "Lasso(alpha=1e-05, copy_X=True, fit_intercept=True, max_iter=1000000.0,\n",
       "      normalize=False, positive=False, precompute=False, random_state=None,\n",
       "      selection='cyclic', tol=0.0001, warm_start=False)"
      ]
     },
     "execution_count": 132,
     "metadata": {},
     "output_type": "execute_result"
    }
   ],
   "source": [
    "lasso_l1 = Lasso(alpha=0.00001, max_iter=10e5)\n",
    "lasso_l1.fit(X_train,y_train)"
   ]
  },
  {
   "cell_type": "code",
   "execution_count": 133,
   "metadata": {},
   "outputs": [],
   "source": [
    "train_score_nl1=lasso_l1.score(X_train,y_train)\n",
    "test_score_nl1=lasso_l1.score(X_test,y_test)\n",
    "coeff_used_nl1 = np.sum(lasso_l1.coef_!=0)  "
   ]
  },
  {
   "cell_type": "code",
   "execution_count": 134,
   "metadata": {},
   "outputs": [
    {
     "name": "stdout",
     "output_type": "stream",
     "text": [
      "Train Score for ALPHA =0.00001: 0.7261798299608582\n",
      "Test Score for ALPHA =0.00001:  0.491532676955846\n",
      "Number of FEATURES used: for ALPHA = 0.00001: 6\n"
     ]
    }
   ],
   "source": [
    "print (\"Train Score for ALPHA =0.00001:\", train_score_nl1) \n",
    "print (\"Test Score for ALPHA =0.00001: \", test_score_nl1)\n",
    "print (\"Number of FEATURES used: for ALPHA = 0.00001:\", coeff_used_nl1)"
   ]
  },
  {
   "cell_type": "code",
   "execution_count": 135,
   "metadata": {},
   "outputs": [],
   "source": [
    "lr_new = LinearRegression()\n",
    "lr_new.fit(X_train,y_train)\n",
    "lr_train_score_new=lr_new.score(X_train,y_train)\n",
    "lr_test_score_new=lr_new.score(X_test,y_test)"
   ]
  },
  {
   "cell_type": "code",
   "execution_count": 136,
   "metadata": {},
   "outputs": [
    {
     "name": "stdout",
     "output_type": "stream",
     "text": [
      "LR LASSO TRAIN score: 0.7261798299608582\n",
      "LR LASSO TEST score:  0.49153267703011444\n"
     ]
    }
   ],
   "source": [
    "print (\"LR LASSO TRAIN score:\", lr_train_score_new) \n",
    "print (\"LR LASSO TEST score: \", lr_test_score_new)"
   ]
  },
  {
   "cell_type": "code",
   "execution_count": 137,
   "metadata": {},
   "outputs": [
    {
     "data": {
      "image/png": "[encoded data removed]",
      "text/plain": [
       "<Figure size 432x288 with 2 Axes>"
      ]
     },
     "metadata": {
      "needs_background": "light"
     },
     "output_type": "display_data"
    }
   ],
   "source": [
    "plt.subplot(1,2,1,)\n",
    "plt.plot(lasso.coef_,alpha=0.7,linestyle='none',marker='*',markersize=5,color='red',label=r'Lasso; $\\alpha = 1$',zorder=7) # alpha here is for transparency\n",
    "\n",
    "plt.plot(lasso_l.coef_,alpha=0.5,linestyle='none',marker='d',markersize=6,color='blue',label=r'Lasso; $\\alpha = 0.01$') # alpha here is for transparency\n",
    "\n",
    "plt.xlabel('Coefficient Index',fontsize=16)\n",
    "plt.ylabel('Coefficient Magnitude',fontsize=16)\n",
    "plt.legend(fontsize=13,loc=4)\n",
    "plt.subplot(1,2,2)\n",
    "plt.plot(lasso.coef_,alpha=0.7,linestyle='none',marker='*',markersize=5,color='red',label=r'Lasso; $\\alpha = 1$',zorder=7)\n",
    "plt.plot(lasso_l.coef_,alpha=0.5,linestyle='none',marker='d',markersize=6,color='blue',label=r'Lasso; $\\alpha = 0.01$')\n",
    "\n",
    "plt.plot(lasso_l1.coef_,alpha=0.8,linestyle='none',marker='v',markersize=6,color='black',label=r'Lasso; $\\alpha = 0.00001$')\n",
    "plt.plot(lr_new.coef_,alpha=0.7,linestyle='none',marker='o',markersize=5,color='green',label='Linear Regression',zorder=2)\n",
    "\n",
    "plt.xlabel('Coefficient Index',fontsize=16)\n",
    "plt.ylabel('Coefficient Magnitude',fontsize=16)\n",
    "plt.legend(fontsize=5,loc=0)\n",
    "plt.tight_layout()\n",
    "plt.show()"
   ]
  },
  {
   "cell_type": "code",
   "execution_count": 138,
   "metadata": {},
   "outputs": [
    {
     "data": {
      "image/png": "[encoded data removed]",
      "text/plain": [
       "<Figure size 432x288 with 2 Axes>"
      ]
     },
     "metadata": {
      "needs_background": "light"
     },
     "output_type": "display_data"
    }
   ],
   "source": [
    "plt.subplot(1,2,1,)\n",
    "plt.plot(lasso.coef_,alpha=0.15,linestyle='none',marker='*',markersize=7,color='green',label=r'Lasso; $\\alpha = 1$',zorder=7) # alpha here is for transparency\n",
    "\n",
    "plt.plot(lasso_l.coef_,alpha=0.20,linestyle='none',marker='d',markersize=6,color='red',label=r'Lasso; $\\alpha = 0.01$') # alpha here is for transparency\n",
    "\n",
    "plt.xlabel('Coefficient Index',fontsize=12)\n",
    "plt.ylabel('Coefficient Magnitude',fontsize=12)\n",
    "plt.legend(fontsize=11,loc=2)\n",
    "plt.subplot(1,2,2)\n",
    "plt.plot(lasso.coef_,alpha=0.15,linestyle='none',marker='*',markersize=7,color='green',label=r'Lasso; $\\alpha = 1$',zorder=7)\n",
    "plt.plot(lasso_l.coef_,alpha=0.20,linestyle='none',marker='d',markersize=6,color='red',label=r'Lasso; $\\alpha = 0.01$')\n",
    "\n",
    "plt.plot(lasso_l1.coef_,alpha=0.10,linestyle='none',marker='v',markersize=7,color='blue',label=r'Lasso; $\\alpha = 0.00001$')\n",
    "plt.plot(lr_new.coef_,alpha=0.15,linestyle='none',marker='o',markersize=6,color='yellow',label='Linear Regression',zorder=2)\n",
    "\n",
    "plt.xlabel('Coefficient Index',fontsize=16)\n",
    "plt.ylabel('Coefficient Magnitude',fontsize=16)\n",
    "plt.legend(fontsize=6,loc=0)\n",
    "plt.tight_layout()\n",
    "plt.show()"
   ]
  },
  {
   "cell_type": "code",
   "execution_count": null,
   "metadata": {},
   "outputs": [],
   "source": [
    "#Logistic Regression"
   ]
  },
  {
   "cell_type": "code",
   "execution_count": 143,
   "metadata": {},
   "outputs": [],
   "source": [
    "from sklearn.linear_model import LogisticRegression"
   ]
  },
  {
   "cell_type": "code",
   "execution_count": 145,
   "metadata": {},
   "outputs": [],
   "source": [
    "log_new = LogisticRegression()  "
   ]
  },
  {
   "cell_type": "code",
   "execution_count": 146,
   "metadata": {},
   "outputs": [],
   "source": [
    "X_train, X_test, y_train, y_test = train_test_split(X_1, Y, test_size=0.33, random_state=50)"
   ]
  },
  {
   "cell_type": "code",
   "execution_count": 147,
   "metadata": {},
   "outputs": [
    {
     "name": "stdout",
     "output_type": "stream",
     "text": [
      "(432, 2)\n",
      "(432, 1)\n",
      "(213, 2)\n",
      "(213, 1)\n"
     ]
    }
   ],
   "source": [
    "print(X_train.shape)\n",
    "print(y_train.shape)\n",
    "print(X_test.shape)\n",
    "print(y_test.shape)"
   ]
  },
  {
   "cell_type": "code",
   "execution_count": 148,
   "metadata": {},
   "outputs": [
    {
     "name": "stderr",
     "output_type": "stream",
     "text": [
      "C:\\Users\\Raja\\anaconda3\\lib\\site-packages\\sklearn\\utils\\validation.py:760: DataConversionWarning: A column-vector y was passed when a 1d array was expected. Please change the shape of y to (n_samples, ), for example using ravel().\n",
      "  y = column_or_1d(y, warn=True)\n",
      "C:\\Users\\Raja\\anaconda3\\lib\\site-packages\\sklearn\\linear_model\\_logistic.py:940: ConvergenceWarning: lbfgs failed to converge (status=1):\n",
      "STOP: TOTAL NO. of ITERATIONS REACHED LIMIT.\n",
      "\n",
      "Increase the number of iterations (max_iter) or scale the data as shown in:\n",
      "    https://scikit-learn.org/stable/modules/preprocessing.html\n",
      "Please also refer to the documentation for alternative solver options:\n",
      "    https://scikit-learn.org/stable/modules/linear_model.html#logistic-regression\n",
      "  extra_warning_msg=_LOGISTIC_SOLVER_CONVERGENCE_MSG)\n"
     ]
    },
    {
     "data": {
      "text/plain": [
       "LogisticRegression(C=1.0, class_weight=None, dual=False, fit_intercept=True,\n",
       "                   intercept_scaling=1, l1_ratio=None, max_iter=100,\n",
       "                   multi_class='auto', n_jobs=None, penalty='l2',\n",
       "                   random_state=None, solver='lbfgs', tol=0.0001, verbose=0,\n",
       "                   warm_start=False)"
      ]
     },
     "execution_count": 148,
     "metadata": {},
     "output_type": "execute_result"
    }
   ],
   "source": [
    "log_new.fit(X_train,y_train)"
   ]
  },
  {
   "cell_type": "code",
   "execution_count": 149,
   "metadata": {},
   "outputs": [],
   "source": [
    "pred = log_new.predict(X_test)"
   ]
  },
  {
   "cell_type": "code",
   "execution_count": 150,
   "metadata": {},
   "outputs": [
    {
     "data": {
      "text/plain": [
       "0.06018518518518518"
      ]
     },
     "execution_count": 150,
     "metadata": {},
     "output_type": "execute_result"
    }
   ],
   "source": [
    "log_new.score(X_train,y_train)"
   ]
  },
  {
   "cell_type": "code",
   "execution_count": 151,
   "metadata": {},
   "outputs": [
    {
     "data": {
      "text/plain": [
       "0.07511737089201878"
      ]
     },
     "execution_count": 151,
     "metadata": {},
     "output_type": "execute_result"
    }
   ],
   "source": [
    "log_new.score(X_test,y_test)"
   ]
  },
  {
   "cell_type": "code",
   "execution_count": 152,
   "metadata": {},
   "outputs": [
    {
     "data": {
      "text/plain": [
       "array([[0, 0, 0, ..., 0, 0, 0],\n",
       "       [0, 0, 0, ..., 0, 0, 0],\n",
       "       [0, 0, 0, ..., 0, 0, 0],\n",
       "       ...,\n",
       "       [0, 0, 0, ..., 0, 0, 0],\n",
       "       [0, 0, 0, ..., 0, 0, 0],\n",
       "       [0, 0, 0, ..., 0, 0, 0]], dtype=int64)"
      ]
     },
     "execution_count": 152,
     "metadata": {},
     "output_type": "execute_result"
    }
   ],
   "source": [
    "from sklearn.metrics import confusion_matrix\n",
    "confusion_matrix(y_test,pred)"
   ]
  },
  {
   "cell_type": "code",
   "execution_count": 153,
   "metadata": {},
   "outputs": [
    {
     "name": "stderr",
     "output_type": "stream",
     "text": [
      "C:\\Users\\Raja\\anaconda3\\lib\\site-packages\\sklearn\\utils\\validation.py:760: DataConversionWarning: A column-vector y was passed when a 1d array was expected. Please change the shape of y to (n_samples, ), for example using ravel().\n",
      "  y = column_or_1d(y, warn=True)\n",
      "C:\\Users\\Raja\\anaconda3\\lib\\site-packages\\sklearn\\linear_model\\_logistic.py:940: ConvergenceWarning: lbfgs failed to converge (status=1):\n",
      "STOP: TOTAL NO. of ITERATIONS REACHED LIMIT.\n",
      "\n",
      "Increase the number of iterations (max_iter) or scale the data as shown in:\n",
      "    https://scikit-learn.org/stable/modules/preprocessing.html\n",
      "Please also refer to the documentation for alternative solver options:\n",
      "    https://scikit-learn.org/stable/modules/linear_model.html#logistic-regression\n",
      "  extra_warning_msg=_LOGISTIC_SOLVER_CONVERGENCE_MSG)\n",
      "C:\\Users\\Raja\\anaconda3\\lib\\site-packages\\sklearn\\utils\\validation.py:760: DataConversionWarning: A column-vector y was passed when a 1d array was expected. Please change the shape of y to (n_samples, ), for example using ravel().\n",
      "  y = column_or_1d(y, warn=True)\n",
      "C:\\Users\\Raja\\anaconda3\\lib\\site-packages\\sklearn\\linear_model\\_logistic.py:940: ConvergenceWarning: lbfgs failed to converge (status=1):\n",
      "STOP: TOTAL NO. of ITERATIONS REACHED LIMIT.\n",
      "\n",
      "Increase the number of iterations (max_iter) or scale the data as shown in:\n",
      "    https://scikit-learn.org/stable/modules/preprocessing.html\n",
      "Please also refer to the documentation for alternative solver options:\n",
      "    https://scikit-learn.org/stable/modules/linear_model.html#logistic-regression\n",
      "  extra_warning_msg=_LOGISTIC_SOLVER_CONVERGENCE_MSG)\n",
      "C:\\Users\\Raja\\anaconda3\\lib\\site-packages\\sklearn\\utils\\validation.py:760: DataConversionWarning: A column-vector y was passed when a 1d array was expected. Please change the shape of y to (n_samples, ), for example using ravel().\n",
      "  y = column_or_1d(y, warn=True)\n",
      "C:\\Users\\Raja\\anaconda3\\lib\\site-packages\\sklearn\\linear_model\\_logistic.py:940: ConvergenceWarning: lbfgs failed to converge (status=1):\n",
      "STOP: TOTAL NO. of ITERATIONS REACHED LIMIT.\n",
      "\n",
      "Increase the number of iterations (max_iter) or scale the data as shown in:\n",
      "    https://scikit-learn.org/stable/modules/preprocessing.html\n",
      "Please also refer to the documentation for alternative solver options:\n",
      "    https://scikit-learn.org/stable/modules/linear_model.html#logistic-regression\n",
      "  extra_warning_msg=_LOGISTIC_SOLVER_CONVERGENCE_MSG)\n",
      "C:\\Users\\Raja\\anaconda3\\lib\\site-packages\\sklearn\\utils\\validation.py:760: DataConversionWarning: A column-vector y was passed when a 1d array was expected. Please change the shape of y to (n_samples, ), for example using ravel().\n",
      "  y = column_or_1d(y, warn=True)\n",
      "C:\\Users\\Raja\\anaconda3\\lib\\site-packages\\sklearn\\linear_model\\_logistic.py:940: ConvergenceWarning: lbfgs failed to converge (status=1):\n",
      "STOP: TOTAL NO. of ITERATIONS REACHED LIMIT.\n",
      "\n",
      "Increase the number of iterations (max_iter) or scale the data as shown in:\n",
      "    https://scikit-learn.org/stable/modules/preprocessing.html\n",
      "Please also refer to the documentation for alternative solver options:\n",
      "    https://scikit-learn.org/stable/modules/linear_model.html#logistic-regression\n",
      "  extra_warning_msg=_LOGISTIC_SOLVER_CONVERGENCE_MSG)\n",
      "C:\\Users\\Raja\\anaconda3\\lib\\site-packages\\sklearn\\utils\\validation.py:760: DataConversionWarning: A column-vector y was passed when a 1d array was expected. Please change the shape of y to (n_samples, ), for example using ravel().\n",
      "  y = column_or_1d(y, warn=True)\n",
      "C:\\Users\\Raja\\anaconda3\\lib\\site-packages\\sklearn\\linear_model\\_logistic.py:940: ConvergenceWarning: lbfgs failed to converge (status=1):\n",
      "STOP: TOTAL NO. of ITERATIONS REACHED LIMIT.\n",
      "\n",
      "Increase the number of iterations (max_iter) or scale the data as shown in:\n",
      "    https://scikit-learn.org/stable/modules/preprocessing.html\n",
      "Please also refer to the documentation for alternative solver options:\n",
      "    https://scikit-learn.org/stable/modules/linear_model.html#logistic-regression\n",
      "  extra_warning_msg=_LOGISTIC_SOLVER_CONVERGENCE_MSG)\n"
     ]
    },
    {
     "data": {
      "text/plain": [
       "<matplotlib.legend.Legend at 0x5f10964b88>"
      ]
     },
     "execution_count": 153,
     "metadata": {},
     "output_type": "execute_result"
    },
    {
     "data": {
      "image/png": "[encoded data removed]",
      "text/plain": [
       "<Figure size 432x288 with 1 Axes>"
      ]
     },
     "metadata": {
      "needs_background": "light"
     },
     "output_type": "display_data"
    }
   ],
   "source": [
    "c = [0.01,0.1,1,10,100]\n",
    "test_score=[]\n",
    "train_score=[]\n",
    "for i in c:\n",
    "    log_new = LogisticRegression(C=i)\n",
    "    log_new.fit(X_train,y_train)\n",
    "    train_score.append(log_new.score(X_train,y_train))\n",
    "    test_score.append(log_new.score(X_test,y_test))\n",
    "    \n",
    "plt.plot(c, train_score, label=\"Train Score\")\n",
    "plt.plot(c, test_score, label=\"Test Score\")\n",
    "plt.xscale('Log')\n",
    "plt.legend()"
   ]
  },
  {
   "cell_type": "code",
   "execution_count": 154,
   "metadata": {},
   "outputs": [
    {
     "name": "stdout",
     "output_type": "stream",
     "text": [
      "[0.06712962962962964, 0.06018518518518518, 0.06018518518518518, 0.05324074074074074, 0.05787037037037037]\n"
     ]
    }
   ],
   "source": [
    "print(train_score)"
   ]
  },
  {
   "cell_type": "code",
   "execution_count": 155,
   "metadata": {},
   "outputs": [
    {
     "name": "stdout",
     "output_type": "stream",
     "text": [
      "[0.09859154929577464, 0.07042253521126761, 0.07511737089201878, 0.06572769953051644, 0.056338028169014086]\n"
     ]
    }
   ],
   "source": [
    "print(test_score)"
   ]
  },
  {
   "cell_type": "code",
   "execution_count": null,
   "metadata": {},
   "outputs": [],
   "source": []
  }
 ],
 "metadata": {
  "kernelspec": {
   "display_name": "Python 3",
   "language": "python",
   "name": "python3"
  },
  "language_info": {
   "codemirror_mode": {
    "name": "ipython",
    "version": 3
   },
   "file_extension": ".py",
   "mimetype": "text/x-python",
   "name": "python",
   "nbconvert_exporter": "python",
   "pygments_lexer": "ipython3",
   "version": "3.7.6"
  }
 },
 "nbformat": 4,
 "nbformat_minor": 4
}
